{
 "cells": [
  {
   "cell_type": "markdown",
   "id": "f00e985e-e5f1-4907-bf96-d96ca8dae58b",
   "metadata": {},
   "source": [
    "**Variable**"
   ]
  },
  {
   "cell_type": "markdown",
   "id": "5abc73ed-fc58-4949-8609-ad7f6b2903b5",
   "metadata": {},
   "source": [
    "**Variables**"
   ]
  },
  {
   "cell_type": "markdown",
   "id": "07bbd4bc-376d-4e15-8a00-eb1d76ada11f",
   "metadata": {},
   "source": [
    "- Variables are used to store the values\n",
    "- Variables can change their values\n",
    "- Varyyy:varying"
   ]
  },
  {
   "cell_type": "code",
   "execution_count": 4,
   "id": "bf03603d-0433-43de-9365-5d425eabf84e",
   "metadata": {},
   "outputs": [
    {
     "data": {
      "text/plain": [
       "100"
      ]
     },
     "execution_count": 4,
     "metadata": {},
     "output_type": "execute_result"
    }
   ],
   "source": [
    "number=100\n",
    "number\n",
    "# 100 is stored in a variable called 'number'"
   ]
  },
  {
   "cell_type": "code",
   "execution_count": 6,
   "id": "d83dfbad-1436-4b8b-bb9a-3c025b76dfbe",
   "metadata": {},
   "outputs": [
    {
     "data": {
      "text/plain": [
       "200"
      ]
     },
     "execution_count": 6,
     "metadata": {},
     "output_type": "execute_result"
    }
   ],
   "source": [
    "number=200\n",
    "number"
   ]
  },
  {
   "cell_type": "code",
   "execution_count": 8,
   "id": "26c9484d-ce8c-4c61-82cc-8b5e002ec263",
   "metadata": {},
   "outputs": [
    {
     "data": {
      "text/plain": [
       "2500"
      ]
     },
     "execution_count": 8,
     "metadata": {},
     "output_type": "execute_result"
    }
   ],
   "source": [
    "raviteja=2500\n",
    "raviteja\n",
    "#type ra\n",
    "#enter tab\n",
    "#you can see the names which are starting with ra"
   ]
  },
  {
   "cell_type": "code",
   "execution_count": 10,
   "id": "268201d1-1a77-43af-b492-46af705e37ad",
   "metadata": {},
   "outputs": [
    {
     "data": {
      "text/plain": [
       "200"
      ]
     },
     "execution_count": 10,
     "metadata": {},
     "output_type": "execute_result"
    }
   ],
   "source": [
    "NUMBER=200\n",
    "NUMBER"
   ]
  },
  {
   "cell_type": "code",
   "execution_count": 12,
   "id": "593523aa-7779-43b3-82b2-2276c39f5735",
   "metadata": {},
   "outputs": [
    {
     "data": {
      "text/plain": [
       "100"
      ]
     },
     "execution_count": 12,
     "metadata": {},
     "output_type": "execute_result"
    }
   ],
   "source": [
    "NUmber=100\n",
    "NUmber"
   ]
  },
  {
   "cell_type": "code",
   "execution_count": 14,
   "id": "98cb9324-bced-4017-9ebd-3e079e9f597c",
   "metadata": {},
   "outputs": [
    {
     "data": {
      "text/plain": [
       "400"
      ]
     },
     "execution_count": 14,
     "metadata": {},
     "output_type": "execute_result"
    }
   ],
   "source": [
    "number123=400\n",
    "number123"
   ]
  },
  {
   "cell_type": "code",
   "execution_count": 16,
   "id": "6d199f62-27d8-4285-aa14-228c2c22fa2b",
   "metadata": {},
   "outputs": [
    {
     "ename": "SyntaxError",
     "evalue": "invalid decimal literal (1186622190.py, line 1)",
     "output_type": "error",
     "traceback": [
      "\u001b[1;36m  Cell \u001b[1;32mIn[16], line 1\u001b[1;36m\u001b[0m\n\u001b[1;33m    123number=500\u001b[0m\n\u001b[1;37m      ^\u001b[0m\n\u001b[1;31mSyntaxError\u001b[0m\u001b[1;31m:\u001b[0m invalid decimal literal\n"
     ]
    }
   ],
   "source": [
    "123number=500\n",
    "123number\n",
    "#Variables does not have numbers as prefix\n",
    "#variables should not start with numbers"
   ]
  },
  {
   "cell_type": "code",
   "execution_count": 18,
   "id": "35431b5a-c795-401a-a998-4572648346a5",
   "metadata": {},
   "outputs": [
    {
     "ename": "SyntaxError",
     "evalue": "cannot assign to expression here. Maybe you meant '==' instead of '='? (1787103918.py, line 1)",
     "output_type": "error",
     "traceback": [
      "\u001b[1;36m  Cell \u001b[1;32mIn[18], line 1\u001b[1;36m\u001b[0m\n\u001b[1;33m    Number*one=500\u001b[0m\n\u001b[1;37m    ^\u001b[0m\n\u001b[1;31mSyntaxError\u001b[0m\u001b[1;31m:\u001b[0m cannot assign to expression here. Maybe you meant '==' instead of '='?\n"
     ]
    }
   ],
   "source": [
    "Number*one=500\n",
    "Number*one\n",
    "#Variables does not have spl characters"
   ]
  },
  {
   "cell_type": "code",
   "execution_count": 20,
   "id": "4121d978-c188-4c51-b019-56d422573fe8",
   "metadata": {},
   "outputs": [
    {
     "data": {
      "text/plain": [
       "500"
      ]
     },
     "execution_count": 20,
     "metadata": {},
     "output_type": "execute_result"
    }
   ],
   "source": [
    "number_one=500\n",
    "number_one\n",
    "# variables can have underscore"
   ]
  },
  {
   "cell_type": "code",
   "execution_count": 24,
   "id": "c6ed326a-7895-4c76-a02c-00b7877b0b05",
   "metadata": {},
   "outputs": [
    {
     "data": {
      "text/plain": [
       "900"
      ]
     },
     "execution_count": 24,
     "metadata": {},
     "output_type": "execute_result"
    }
   ],
   "source": [
    "_=900\n",
    "_\n",
    "# only underscore can represent asvariables"
   ]
  },
  {
   "cell_type": "code",
   "execution_count": 26,
   "id": "6c75be5e-92a8-409c-873c-fb9f4ff7adf3",
   "metadata": {},
   "outputs": [
    {
     "data": {
      "text/plain": [
       "700"
      ]
     },
     "execution_count": 26,
     "metadata": {},
     "output_type": "execute_result"
    }
   ],
   "source": [
    "number_123_two=700\n",
    "number_123_two"
   ]
  },
  {
   "cell_type": "code",
   "execution_count": null,
   "id": "2e74185d-f5b5-4b8e-a853-b10a359a4a62",
   "metadata": {},
   "outputs": [],
   "source": []
  }
 ],
 "metadata": {
  "kernelspec": {
   "display_name": "Python 3 (ipykernel)",
   "language": "python",
   "name": "python3"
  },
  "language_info": {
   "codemirror_mode": {
    "name": "ipython",
    "version": 3
   },
   "file_extension": ".py",
   "mimetype": "text/x-python",
   "name": "python",
   "nbconvert_exporter": "python",
   "pygments_lexer": "ipython3",
   "version": "3.12.4"
  }
 },
 "nbformat": 4,
 "nbformat_minor": 5
}

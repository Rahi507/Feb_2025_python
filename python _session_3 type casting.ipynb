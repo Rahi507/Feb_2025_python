{
 "cells": [
  {
   "cell_type": "markdown",
   "id": "92265936-e1a0-4641-8c1f-14e0921257bf",
   "metadata": {},
   "source": [
    "- integer====int\n",
    "- float====float\n",
    "- string=====str\n",
    "- boolean===bool"
   ]
  },
  {
   "cell_type": "markdown",
   "id": "6cdaa66b-cc99-47a2-bc32-c73ec4dfaa64",
   "metadata": {},
   "source": [
    "**Integer to other data type**`"
   ]
  },
  {
   "cell_type": "code",
   "execution_count": 6,
   "id": "4370d8fb-5085-44d8-aa69-21b5b3bd48f7",
   "metadata": {},
   "outputs": [
    {
     "data": {
      "text/plain": [
       "int"
      ]
     },
     "execution_count": 6,
     "metadata": {},
     "output_type": "execute_result"
    }
   ],
   "source": [
    "num1=100\n",
    "type(num1)"
   ]
  },
  {
   "cell_type": "code",
   "execution_count": 10,
   "id": "ecfd58ac-63a9-4a06-96e3-4465d9e0723d",
   "metadata": {},
   "outputs": [
    {
     "data": {
      "text/plain": [
       "100.0"
      ]
     },
     "execution_count": 10,
     "metadata": {},
     "output_type": "execute_result"
    }
   ],
   "source": [
    "num_float=float(num1)\n",
    "num_float"
   ]
  },
  {
   "cell_type": "code",
   "execution_count": 12,
   "id": "6064fb83-2e12-42ea-abab-fdeaa64090d7",
   "metadata": {},
   "outputs": [
    {
     "data": {
      "text/plain": [
       "float"
      ]
     },
     "execution_count": 12,
     "metadata": {},
     "output_type": "execute_result"
    }
   ],
   "source": [
    "type(num_float)"
   ]
  },
  {
   "cell_type": "markdown",
   "id": "d9a7d417-92a1-4aae-b7ec-c65848f35cb5",
   "metadata": {},
   "source": [
    "- num1 is a variable, stored value:100\n",
    "- num1 is an integer type\n",
    "- to convert float,float(num1)\n",
    "- float(num1) gives 100.0\n",
    "- float(num1) stored in a variable:num_float\n",
    "- num_float is a float type"
   ]
  },
  {
   "cell_type": "code",
   "execution_count": 16,
   "id": "71e71a41-7ae6-4b5f-a676-e5c0d3fb8b32",
   "metadata": {},
   "outputs": [
    {
     "ename": "NameError",
     "evalue": "name 'python' is not defined",
     "output_type": "error",
     "traceback": [
      "\u001b[1;31m---------------------------------------------------------------------------\u001b[0m",
      "\u001b[1;31mNameError\u001b[0m                                 Traceback (most recent call last)",
      "Cell \u001b[1;32mIn[16], line 1\u001b[0m\n\u001b[1;32m----> 1\u001b[0m python\n",
      "\u001b[1;31mNameError\u001b[0m: name 'python' is not defined"
     ]
    }
   ],
   "source": [
    "python"
   ]
  },
  {
   "cell_type": "code",
   "execution_count": 18,
   "id": "e3c0938d-e62c-443b-b698-6e367a79a0cc",
   "metadata": {},
   "outputs": [
    {
     "data": {
      "text/plain": [
       "10"
      ]
     },
     "execution_count": 18,
     "metadata": {},
     "output_type": "execute_result"
    }
   ],
   "source": [
    "python=10\n",
    "python"
   ]
  },
  {
   "cell_type": "markdown",
   "id": "165efdbd-08da-4de3-a78e-136649ba9c80",
   "metadata": {},
   "source": [
    "**Name error**"
   ]
  },
  {
   "cell_type": "markdown",
   "id": "7cb9f694-61e5-49b6-9ce2-9024a262b2ec",
   "metadata": {},
   "source": [
    "- whenever if we see name error means that correponding variable is not initialized before\n",
    "- For ex in above python is a variable\n",
    "- Is not defined before,thats why we are getting error\n",
    "- So go above the lines and search for variable:python\n",
    "- if you feel that is already defined then run again"
   ]
  },
  {
   "cell_type": "markdown",
   "id": "c4723f6d-338c-4ea0-8ffd-45d13d318f0c",
   "metadata": {},
   "source": [
    "**Integer to string conversion**"
   ]
  },
  {
   "cell_type": "code",
   "execution_count": 25,
   "id": "477b450f-a9a8-4991-b64e-327d98b75cbe",
   "metadata": {},
   "outputs": [
    {
     "data": {
      "text/plain": [
       "'100'"
      ]
     },
     "execution_count": 25,
     "metadata": {},
     "output_type": "execute_result"
    }
   ],
   "source": [
    "num1=100\n",
    "str(num1)"
   ]
  },
  {
   "cell_type": "code",
   "execution_count": 27,
   "id": "3471c270-b21a-4c16-836a-e07137744625",
   "metadata": {},
   "outputs": [
    {
     "data": {
      "text/plain": [
       "'100'"
      ]
     },
     "execution_count": 27,
     "metadata": {},
     "output_type": "execute_result"
    }
   ],
   "source": [
    "num_string=str(num1)\n",
    "num_string"
   ]
  },
  {
   "cell_type": "code",
   "execution_count": 29,
   "id": "db47c9c2-06e6-4749-9d90-22ac15f9c1e3",
   "metadata": {},
   "outputs": [
    {
     "data": {
      "text/plain": [
       "str"
      ]
     },
     "execution_count": 29,
     "metadata": {},
     "output_type": "execute_result"
    }
   ],
   "source": [
    "type(num_string)"
   ]
  },
  {
   "cell_type": "markdown",
   "id": "06d4e17d-39bf-441f-8bfe-86cdcd265c0d",
   "metadata": {},
   "source": [
    "** Int to Boolean conversion**"
   ]
  },
  {
   "cell_type": "code",
   "execution_count": 32,
   "id": "a0861f9b-3085-4009-9579-db63f83ee98e",
   "metadata": {},
   "outputs": [
    {
     "data": {
      "text/plain": [
       "True"
      ]
     },
     "execution_count": 32,
     "metadata": {},
     "output_type": "execute_result"
    }
   ],
   "source": [
    "num1=100\n",
    "bool(num1)"
   ]
  },
  {
   "cell_type": "code",
   "execution_count": 34,
   "id": "c602bee3-ca03-43a6-b74e-86bf679cf616",
   "metadata": {},
   "outputs": [
    {
     "data": {
      "text/plain": [
       "True"
      ]
     },
     "execution_count": 34,
     "metadata": {},
     "output_type": "execute_result"
    }
   ],
   "source": [
    "num_boolean=bool(num1)\n",
    "num_boolean"
   ]
  },
  {
   "cell_type": "code",
   "execution_count": 36,
   "id": "746f76b7-4326-4929-b64f-adf9ee6936e6",
   "metadata": {},
   "outputs": [
    {
     "data": {
      "text/plain": [
       "bool"
      ]
     },
     "execution_count": 36,
     "metadata": {},
     "output_type": "execute_result"
    }
   ],
   "source": [
    "type(num_boolean)"
   ]
  },
  {
   "cell_type": "code",
   "execution_count": 38,
   "id": "b4bd10a5-c988-4d3d-95f2-39ff832f9b3d",
   "metadata": {},
   "outputs": [
    {
     "data": {
      "text/plain": [
       "True"
      ]
     },
     "execution_count": 38,
     "metadata": {},
     "output_type": "execute_result"
    }
   ],
   "source": [
    "num2=-100\n",
    "bool(num2)"
   ]
  },
  {
   "cell_type": "code",
   "execution_count": 40,
   "id": "bb751b3e-72c9-4e11-aae1-1b40156a01e6",
   "metadata": {},
   "outputs": [
    {
     "data": {
      "text/plain": [
       "False"
      ]
     },
     "execution_count": 40,
     "metadata": {},
     "output_type": "execute_result"
    }
   ],
   "source": [
    "num3=0\n",
    "num3_bool=bool(num3)\n",
    "num3_bool\n"
   ]
  },
  {
   "cell_type": "markdown",
   "id": "0b70d5e7-e306-4b79-8c11-54626c46ff27",
   "metadata": {},
   "source": [
    "**note**\n",
    "- When boolean conversion of integer gives false\n",
    "- for 0 value,it gives false"
   ]
  },
  {
   "cell_type": "code",
   "execution_count": 47,
   "id": "3ceb420f-6526-42e5-84c7-7da31fbb11fe",
   "metadata": {},
   "outputs": [
    {
     "data": {
      "text/plain": [
       "(100.0, '100', True)"
      ]
     },
     "execution_count": 47,
     "metadata": {},
     "output_type": "execute_result"
    }
   ],
   "source": [
    "num1=100\n",
    "num1_float=float(num1)\n",
    "num1_str=str(num1)\n",
    "num1_bool=bool(num1)\n",
    "num1_float,num1_str,num1_bool"
   ]
  },
  {
   "cell_type": "code",
   "execution_count": 49,
   "id": "5aac0d91-f8d0-4cea-b9ee-d4a657e6cf57",
   "metadata": {},
   "outputs": [
    {
     "data": {
      "text/plain": [
       "(1000.0, '1000', True)"
      ]
     },
     "execution_count": 49,
     "metadata": {},
     "output_type": "execute_result"
    }
   ],
   "source": [
    "float(1000),str(1000),bool(1000)"
   ]
  },
  {
   "cell_type": "markdown",
   "id": "71f0ac9f-2ad1-4f5a-8505-7c3ee570fc32",
   "metadata": {},
   "source": [
    "**Float to otherdata types**"
   ]
  },
  {
   "cell_type": "code",
   "execution_count": 56,
   "id": "b8bda326-3e02-4195-aa47-2bc79e62fd10",
   "metadata": {},
   "outputs": [
    {
     "data": {
      "text/plain": [
       "(100, '100.5', True)"
      ]
     },
     "execution_count": 56,
     "metadata": {},
     "output_type": "execute_result"
    }
   ],
   "source": [
    "num1=100.5\n",
    "num1_int=int(num1)\n",
    "num1_str=str(num1)\n",
    "num1_bool=bool(num1)\n",
    "num1_int,num1_str,num1_bool"
   ]
  },
  {
   "cell_type": "code",
   "execution_count": 58,
   "id": "c0e48a02-3c29-49f4-8fdf-940384907366",
   "metadata": {},
   "outputs": [
    {
     "data": {
      "text/plain": [
       "(0, '0.0', False)"
      ]
     },
     "execution_count": 58,
     "metadata": {},
     "output_type": "execute_result"
    }
   ],
   "source": [
    "int(0.0),str(0.0),bool(0.0)"
   ]
  },
  {
   "cell_type": "markdown",
   "id": "0cdd9fd2-dc4d-4b1e-93a7-962cd5f057f4",
   "metadata": {},
   "source": [
    "**string to other data type**"
   ]
  },
  {
   "cell_type": "code",
   "execution_count": 63,
   "id": "ed53a693-c92f-4588-8b6a-a64833a44834",
   "metadata": {},
   "outputs": [
    {
     "ename": "ValueError",
     "evalue": "invalid literal for int() with base 10: 'apple'",
     "output_type": "error",
     "traceback": [
      "\u001b[1;31m---------------------------------------------------------------------------\u001b[0m",
      "\u001b[1;31mValueError\u001b[0m                                Traceback (most recent call last)",
      "Cell \u001b[1;32mIn[63], line 3\u001b[0m\n\u001b[0;32m      1\u001b[0m \u001b[38;5;66;03m#case1:\u001b[39;00m\n\u001b[0;32m      2\u001b[0m \u001b[38;5;28mstr\u001b[39m\u001b[38;5;241m=\u001b[39m\u001b[38;5;124m'\u001b[39m\u001b[38;5;124mapple\u001b[39m\u001b[38;5;124m'\u001b[39m\n\u001b[1;32m----> 3\u001b[0m \u001b[38;5;28mint\u001b[39m(\u001b[38;5;124m'\u001b[39m\u001b[38;5;124mapple\u001b[39m\u001b[38;5;124m'\u001b[39m),\u001b[38;5;28mfloat\u001b[39m(\u001b[38;5;124m'\u001b[39m\u001b[38;5;124mapple\u001b[39m\u001b[38;5;124m'\u001b[39m),\u001b[38;5;28mbool\u001b[39m(\u001b[38;5;124m'\u001b[39m\u001b[38;5;124mapple\u001b[39m\u001b[38;5;124m'\u001b[39m)\n",
      "\u001b[1;31mValueError\u001b[0m: invalid literal for int() with base 10: 'apple'"
     ]
    }
   ],
   "source": [
    "#case1:\n",
    "str='apple'\n",
    "int('apple'),float('apple'),bool('apple')"
   ]
  },
  {
   "cell_type": "code",
   "execution_count": 3,
   "id": "6008b531-ce64-4614-be65-ce3ca0e0c5e6",
   "metadata": {},
   "outputs": [
    {
     "ename": "ValueError",
     "evalue": "could not convert string to float: 'apple'",
     "output_type": "error",
     "traceback": [
      "\u001b[1;31m---------------------------------------------------------------------------\u001b[0m",
      "\u001b[1;31mValueError\u001b[0m                                Traceback (most recent call last)",
      "Cell \u001b[1;32mIn[3], line 1\u001b[0m\n\u001b[1;32m----> 1\u001b[0m \u001b[38;5;28mfloat\u001b[39m(\u001b[38;5;124m'\u001b[39m\u001b[38;5;124mapple\u001b[39m\u001b[38;5;124m'\u001b[39m)\n",
      "\u001b[1;31mValueError\u001b[0m: could not convert string to float: 'apple'"
     ]
    }
   ],
   "source": [
    "float('apple')"
   ]
  },
  {
   "cell_type": "code",
   "execution_count": 65,
   "id": "cb7041ee-1e6b-45c5-9d8c-4103755f4188",
   "metadata": {},
   "outputs": [
    {
     "data": {
      "text/plain": [
       "True"
      ]
     },
     "execution_count": 65,
     "metadata": {},
     "output_type": "execute_result"
    }
   ],
   "source": [
    "bool('apple')"
   ]
  },
  {
   "cell_type": "code",
   "execution_count": 71,
   "id": "cc633809-29db-457d-b89a-35d6835a4b52",
   "metadata": {},
   "outputs": [
    {
     "ename": "ValueError",
     "evalue": "invalid literal for int() with base 10: 'apple123'",
     "output_type": "error",
     "traceback": [
      "\u001b[1;31m---------------------------------------------------------------------------\u001b[0m",
      "\u001b[1;31mValueError\u001b[0m                                Traceback (most recent call last)",
      "Cell \u001b[1;32mIn[71], line 2\u001b[0m\n\u001b[0;32m      1\u001b[0m \u001b[38;5;28mstr\u001b[39m\u001b[38;5;241m=\u001b[39m\u001b[38;5;124m'\u001b[39m\u001b[38;5;124mapple123\u001b[39m\u001b[38;5;124m'\u001b[39m\n\u001b[1;32m----> 2\u001b[0m \u001b[38;5;28mint\u001b[39m(\u001b[38;5;124m'\u001b[39m\u001b[38;5;124mapple123\u001b[39m\u001b[38;5;124m'\u001b[39m)\n\u001b[0;32m      3\u001b[0m \u001b[38;5;28mfloat\u001b[39m(\u001b[38;5;124m'\u001b[39m\u001b[38;5;124mapple123\u001b[39m\u001b[38;5;124m'\u001b[39m)\n\u001b[0;32m      4\u001b[0m \u001b[38;5;28mbool\u001b[39m(\u001b[38;5;124m'\u001b[39m\u001b[38;5;124mapple123\u001b[39m\u001b[38;5;124m'\u001b[39m)\n",
      "\u001b[1;31mValueError\u001b[0m: invalid literal for int() with base 10: 'apple123'"
     ]
    }
   ],
   "source": [
    "str='apple123'\n",
    "int('apple123')\n",
    "float('apple123')\n",
    "bool('apple123')"
   ]
  },
  {
   "cell_type": "code",
   "execution_count": 1,
   "id": "95962d44-09e3-4d50-a6b1-b2f39af16be5",
   "metadata": {},
   "outputs": [
    {
     "ename": "ValueError",
     "evalue": "could not convert string to float: 'apple123'",
     "output_type": "error",
     "traceback": [
      "\u001b[1;31m---------------------------------------------------------------------------\u001b[0m",
      "\u001b[1;31mValueError\u001b[0m                                Traceback (most recent call last)",
      "Cell \u001b[1;32mIn[1], line 1\u001b[0m\n\u001b[1;32m----> 1\u001b[0m \u001b[38;5;28mfloat\u001b[39m(\u001b[38;5;124m'\u001b[39m\u001b[38;5;124mapple123\u001b[39m\u001b[38;5;124m'\u001b[39m)\n",
      "\u001b[1;31mValueError\u001b[0m: could not convert string to float: 'apple123'"
     ]
    }
   ],
   "source": [
    "float('apple123')"
   ]
  },
  {
   "cell_type": "code",
   "execution_count": 73,
   "id": "3bad03d3-3311-450b-8831-f1a54aae837f",
   "metadata": {},
   "outputs": [
    {
     "data": {
      "text/plain": [
       "True"
      ]
     },
     "execution_count": 73,
     "metadata": {},
     "output_type": "execute_result"
    }
   ],
   "source": [
    "bool('apple123')"
   ]
  },
  {
   "cell_type": "code",
   "execution_count": 81,
   "id": "8120731f-af08-45c2-b301-91aee49f6c05",
   "metadata": {},
   "outputs": [
    {
     "data": {
      "text/plain": [
       "(0, 0.0, True)"
      ]
     },
     "execution_count": 81,
     "metadata": {},
     "output_type": "execute_result"
    }
   ],
   "source": [
    "#case-3\n",
    "str='0'\n",
    "int('0'),float('0'),bool('0')"
   ]
  },
  {
   "cell_type": "code",
   "execution_count": 85,
   "id": "cab78e7f-5625-4105-b28e-04ca40271759",
   "metadata": {},
   "outputs": [
    {
     "ename": "ValueError",
     "evalue": "invalid literal for int() with base 10: ''",
     "output_type": "error",
     "traceback": [
      "\u001b[1;31m---------------------------------------------------------------------------\u001b[0m",
      "\u001b[1;31mValueError\u001b[0m                                Traceback (most recent call last)",
      "Cell \u001b[1;32mIn[85], line 3\u001b[0m\n\u001b[0;32m      1\u001b[0m \u001b[38;5;66;03m#case-4\u001b[39;00m\n\u001b[0;32m      2\u001b[0m \u001b[38;5;28mstr\u001b[39m\u001b[38;5;241m=\u001b[39m\u001b[38;5;124m'\u001b[39m\u001b[38;5;124m'\u001b[39m\n\u001b[1;32m----> 3\u001b[0m \u001b[38;5;28mint\u001b[39m(\u001b[38;5;124m'\u001b[39m\u001b[38;5;124m'\u001b[39m),\u001b[38;5;28mfloat\u001b[39m(\u001b[38;5;124m'\u001b[39m\u001b[38;5;124m'\u001b[39m),\u001b[38;5;28mbool\u001b[39m(\u001b[38;5;124m'\u001b[39m\u001b[38;5;124m'\u001b[39m)\n",
      "\u001b[1;31mValueError\u001b[0m: invalid literal for int() with base 10: ''"
     ]
    }
   ],
   "source": [
    "#case-4\n",
    "str=''\n",
    "int(''),float(''),bool('')"
   ]
  },
  {
   "cell_type": "code",
   "execution_count": 87,
   "id": "d1770fdd-8c62-474c-bd82-11d4880b599b",
   "metadata": {},
   "outputs": [
    {
     "data": {
      "text/plain": [
       "(10, 10.0, True)"
      ]
     },
     "execution_count": 87,
     "metadata": {},
     "output_type": "execute_result"
    }
   ],
   "source": [
    "#case-5\n",
    "str='10'\n",
    "int('10'),float('10'),bool('10')"
   ]
  },
  {
   "cell_type": "code",
   "execution_count": 89,
   "id": "b886599d-a6cf-4ac3-8b7d-dd14a84cf976",
   "metadata": {},
   "outputs": [
    {
     "data": {
      "text/plain": [
       "False"
      ]
     },
     "execution_count": 89,
     "metadata": {},
     "output_type": "execute_result"
    }
   ],
   "source": [
    "bool('')"
   ]
  },
  {
   "cell_type": "code",
   "execution_count": 1,
   "id": "a61ab016-309e-4221-acee-983494181279",
   "metadata": {},
   "outputs": [
    {
     "ename": "ValueError",
     "evalue": "could not convert string to float: ''",
     "output_type": "error",
     "traceback": [
      "\u001b[1;31m---------------------------------------------------------------------------\u001b[0m",
      "\u001b[1;31mValueError\u001b[0m                                Traceback (most recent call last)",
      "Cell \u001b[1;32mIn[1], line 1\u001b[0m\n\u001b[1;32m----> 1\u001b[0m \u001b[38;5;28mfloat\u001b[39m(\u001b[38;5;124m'\u001b[39m\u001b[38;5;124m'\u001b[39m)\n",
      "\u001b[1;31mValueError\u001b[0m: could not convert string to float: ''"
     ]
    }
   ],
   "source": [
    "float('')"
   ]
  },
  {
   "cell_type": "code",
   "execution_count": 99,
   "id": "1f1a057c-d2ec-40ea-aa57-47a0e5d26f46",
   "metadata": {},
   "outputs": [
    {
     "ename": "ValueError",
     "evalue": "invalid literal for int() with base 10: '10.5'",
     "output_type": "error",
     "traceback": [
      "\u001b[1;31m---------------------------------------------------------------------------\u001b[0m",
      "\u001b[1;31mValueError\u001b[0m                                Traceback (most recent call last)",
      "Cell \u001b[1;32mIn[99], line 2\u001b[0m\n\u001b[0;32m      1\u001b[0m \u001b[38;5;28mstr\u001b[39m\u001b[38;5;241m=\u001b[39m\u001b[38;5;124m'\u001b[39m\u001b[38;5;124m10.5\u001b[39m\u001b[38;5;124m'\u001b[39m\n\u001b[1;32m----> 2\u001b[0m \u001b[38;5;28mint\u001b[39m(\u001b[38;5;124m'\u001b[39m\u001b[38;5;124m10.5\u001b[39m\u001b[38;5;124m'\u001b[39m)\n",
      "\u001b[1;31mValueError\u001b[0m: invalid literal for int() with base 10: '10.5'"
     ]
    }
   ],
   "source": [
    "str='10.5'\n",
    "int('10.5')"
   ]
  },
  {
   "cell_type": "code",
   "execution_count": 101,
   "id": "8b872443-98b3-40a3-965b-0da38f4c2127",
   "metadata": {},
   "outputs": [
    {
     "data": {
      "text/plain": [
       "10.5"
      ]
     },
     "execution_count": 101,
     "metadata": {},
     "output_type": "execute_result"
    }
   ],
   "source": [
    "float('10.5')"
   ]
  },
  {
   "cell_type": "code",
   "execution_count": 103,
   "id": "aefb83fc-8f21-430e-9513-38bcd2251532",
   "metadata": {},
   "outputs": [
    {
     "data": {
      "text/plain": [
       "True"
      ]
     },
     "execution_count": 103,
     "metadata": {},
     "output_type": "execute_result"
    }
   ],
   "source": [
    "bool('10.5')"
   ]
  },
  {
   "cell_type": "markdown",
   "id": "29830bba-0452-47a5-a614-685a36a5d289",
   "metadata": {},
   "source": [
    "- case1 english letters as string representation\n",
    "        - apple\n",
    "        - integer conversion fail\n",
    "        - float conversion fail\n",
    "        - boolean conversion true\n",
    "- case2 english letters with numbers as sstring representation\n",
    "        - apple123\n",
    "        - integer fail\n",
    "        - float fail\n",
    "        - boolean conversion true\n",
    "- case3 0 as string representation\n",
    "        - integer conversion 0\n",
    "        - float conversion 0.0\n",
    "        - boolean conversion true\n",
    "- case 4 empty string represntation\n",
    "            - integer conversion fail\n",
    "            - float conversion fail\n",
    "            -boolean conversion False\n",
    "- case 5 10 as string representation\n",
    "         - integer conversion 10\n",
    "            - float conversion 10.0\n",
    "            -boolean conversion True\n",
    "- case 6 10.5 as string repressentation\n",
    "            - integer conversion fail\n",
    "            - float conversion 10.5\n",
    "            -boolean conversion true"
   ]
  },
  {
   "cell_type": "code",
   "execution_count": 107,
   "id": "75e175c7-8deb-4c88-874c-544b85817c8b",
   "metadata": {},
   "outputs": [
    {
     "data": {
      "text/plain": [
       "10"
      ]
     },
     "execution_count": 107,
     "metadata": {},
     "output_type": "execute_result"
    }
   ],
   "source": [
    "int('10')"
   ]
  },
  {
   "cell_type": "code",
   "execution_count": 109,
   "id": "ab75aefb-1bdb-4225-8fc4-276586449616",
   "metadata": {},
   "outputs": [
    {
     "data": {
      "text/plain": [
       "10.5"
      ]
     },
     "execution_count": 109,
     "metadata": {},
     "output_type": "execute_result"
    }
   ],
   "source": [
    "float('10.5')"
   ]
  },
  {
   "cell_type": "code",
   "execution_count": 111,
   "id": "ebe270c7-22e4-4c92-ac1a-dc958919b23b",
   "metadata": {},
   "outputs": [
    {
     "data": {
      "text/plain": [
       "10"
      ]
     },
     "execution_count": 111,
     "metadata": {},
     "output_type": "execute_result"
    }
   ],
   "source": [
    "10.678\n",
    "int(float(10.678))\n"
   ]
  },
  {
   "cell_type": "markdown",
   "id": "f2d7521e-a0c2-4d79-a02d-f06fdb21b3ca",
   "metadata": {},
   "source": [
    "**float is boss**\n",
    " float('10')\n",
    " float('10.5)\n",
    " **integer will  works only int family int('10')\n",
    "  int('10.5')#error\n",
    "  - boolean conversion of empty string gives false\n",
    "  - otherwise true"
   ]
  },
  {
   "cell_type": "code",
   "execution_count": 116,
   "id": "433e50c0-3762-4099-8ce0-5ffae60faea9",
   "metadata": {},
   "outputs": [
    {
     "data": {
      "text/plain": [
       "(False, True)"
      ]
     },
     "execution_count": 116,
     "metadata": {},
     "output_type": "execute_result"
    }
   ],
   "source": [
    "bool(''),bool(' ')"
   ]
  },
  {
   "cell_type": "code",
   "execution_count": 118,
   "id": "3cf642c7-826a-40de-84aa-1c9ebffa21fa",
   "metadata": {},
   "outputs": [
    {
     "data": {
      "text/plain": [
       "(0, 1)"
      ]
     },
     "execution_count": 118,
     "metadata": {},
     "output_type": "execute_result"
    }
   ],
   "source": [
    "len(''),len(' ')"
   ]
  },
  {
   "cell_type": "code",
   "execution_count": 126,
   "id": "ceb06144-42a2-41e9-91bd-f42b7c5324d9",
   "metadata": {},
   "outputs": [
    {
     "data": {
      "text/plain": [
       "1"
      ]
     },
     "execution_count": 126,
     "metadata": {},
     "output_type": "execute_result"
    }
   ],
   "source": [
    "\n",
    "bool=True\n",
    "int(bool)"
   ]
  },
  {
   "cell_type": "code",
   "execution_count": 130,
   "id": "386eae98-8a5f-452b-b9cd-53fd93d8a497",
   "metadata": {},
   "outputs": [
    {
     "ename": "TypeError",
     "evalue": "'str' object is not callable",
     "output_type": "error",
     "traceback": [
      "\u001b[1;31m---------------------------------------------------------------------------\u001b[0m",
      "\u001b[1;31mTypeError\u001b[0m                                 Traceback (most recent call last)",
      "Cell \u001b[1;32mIn[130], line 1\u001b[0m\n\u001b[1;32m----> 1\u001b[0m \u001b[38;5;28mstr\u001b[39m(\u001b[38;5;28mbool\u001b[39m)\n",
      "\u001b[1;31mTypeError\u001b[0m: 'str' object is not callable"
     ]
    }
   ],
   "source": [
    "str(bool)"
   ]
  },
  {
   "cell_type": "code",
   "execution_count": 132,
   "id": "d07d9e2d-401c-4cad-ab55-1b473c67abbd",
   "metadata": {},
   "outputs": [
    {
     "ename": "TypeError",
     "evalue": "'str' object is not callable",
     "output_type": "error",
     "traceback": [
      "\u001b[1;31m---------------------------------------------------------------------------\u001b[0m",
      "\u001b[1;31mTypeError\u001b[0m                                 Traceback (most recent call last)",
      "Cell \u001b[1;32mIn[132], line 1\u001b[0m\n\u001b[1;32m----> 1\u001b[0m \u001b[38;5;28mstr\u001b[39m(\u001b[38;5;28;01mTrue\u001b[39;00m)\n",
      "\u001b[1;31mTypeError\u001b[0m: 'str' object is not callable"
     ]
    }
   ],
   "source": [
    "str(True)"
   ]
  },
  {
   "cell_type": "code",
   "execution_count": 134,
   "id": "76dbe603-de16-4eb9-9a74-7a428aba5421",
   "metadata": {},
   "outputs": [
    {
     "data": {
      "text/plain": [
       "1.0"
      ]
     },
     "execution_count": 134,
     "metadata": {},
     "output_type": "execute_result"
    }
   ],
   "source": [
    "float(bool)"
   ]
  },
  {
   "cell_type": "code",
   "execution_count": 136,
   "id": "ba1aaa25-f477-4993-8928-dab6868f28c7",
   "metadata": {},
   "outputs": [
    {
     "ename": "TypeError",
     "evalue": "'str' object is not callable",
     "output_type": "error",
     "traceback": [
      "\u001b[1;31m---------------------------------------------------------------------------\u001b[0m",
      "\u001b[1;31mTypeError\u001b[0m                                 Traceback (most recent call last)",
      "Cell \u001b[1;32mIn[136], line 1\u001b[0m\n\u001b[1;32m----> 1\u001b[0m \u001b[38;5;28mstr\u001b[39m(\u001b[38;5;28mbool\u001b[39m)\n",
      "\u001b[1;31mTypeError\u001b[0m: 'str' object is not callable"
     ]
    }
   ],
   "source": [
    "str(bool)"
   ]
  },
  {
   "cell_type": "code",
   "execution_count": 138,
   "id": "2b7b81b9-8354-489c-bbe6-1e1eb3b6fe67",
   "metadata": {},
   "outputs": [
    {
     "data": {
      "text/plain": [
       "0"
      ]
     },
     "execution_count": 138,
     "metadata": {},
     "output_type": "execute_result"
    }
   ],
   "source": [
    "int(False)"
   ]
  },
  {
   "cell_type": "code",
   "execution_count": 140,
   "id": "7b171ce7-3cf0-47bb-891e-679e894b93f3",
   "metadata": {},
   "outputs": [
    {
     "data": {
      "text/plain": [
       "0.0"
      ]
     },
     "execution_count": 140,
     "metadata": {},
     "output_type": "execute_result"
    }
   ],
   "source": [
    "float(False)"
   ]
  },
  {
   "cell_type": "code",
   "execution_count": 142,
   "id": "cd796263-a084-4541-bda7-05a44707c9b9",
   "metadata": {},
   "outputs": [
    {
     "ename": "TypeError",
     "evalue": "'str' object is not callable",
     "output_type": "error",
     "traceback": [
      "\u001b[1;31m---------------------------------------------------------------------------\u001b[0m",
      "\u001b[1;31mTypeError\u001b[0m                                 Traceback (most recent call last)",
      "Cell \u001b[1;32mIn[142], line 1\u001b[0m\n\u001b[1;32m----> 1\u001b[0m \u001b[38;5;28mstr\u001b[39m(\u001b[38;5;28;01mFalse\u001b[39;00m)\n",
      "\u001b[1;31mTypeError\u001b[0m: 'str' object is not callable"
     ]
    }
   ],
   "source": [
    "str(False)"
   ]
  },
  {
   "cell_type": "code",
   "execution_count": null,
   "id": "2967ce99-e53b-4a72-83e5-ab5c2b4e9829",
   "metadata": {},
   "outputs": [],
   "source": [
    "If above type of error occurs we have to restart the kernel"
   ]
  },
  {
   "cell_type": "code",
   "execution_count": 144,
   "id": "700a9dcf-7ed8-4214-a50a-2592992b8fd0",
   "metadata": {},
   "outputs": [
    {
     "data": {
      "text/plain": [
       "1"
      ]
     },
     "execution_count": 144,
     "metadata": {},
     "output_type": "execute_result"
    }
   ],
   "source": [
    "int(True)"
   ]
  },
  {
   "cell_type": "code",
   "execution_count": 146,
   "id": "9614e67e-fe8c-4b4b-a2a0-d59b3bc7ff67",
   "metadata": {},
   "outputs": [
    {
     "data": {
      "text/plain": [
       "1.0"
      ]
     },
     "execution_count": 146,
     "metadata": {},
     "output_type": "execute_result"
    }
   ],
   "source": [
    "float(True)"
   ]
  },
  {
   "cell_type": "code",
   "execution_count": 1,
   "id": "42871165-e448-4279-bd96-fda1cb40d1a2",
   "metadata": {},
   "outputs": [
    {
     "data": {
      "text/plain": [
       "'True'"
      ]
     },
     "execution_count": 1,
     "metadata": {},
     "output_type": "execute_result"
    }
   ],
   "source": [
    "str(True)"
   ]
  },
  {
   "cell_type": "code",
   "execution_count": 3,
   "id": "d69b3a9a-9c58-49c8-9339-fd3c91bdd9ad",
   "metadata": {},
   "outputs": [
    {
     "data": {
      "text/plain": [
       "0"
      ]
     },
     "execution_count": 3,
     "metadata": {},
     "output_type": "execute_result"
    }
   ],
   "source": [
    "int(False)"
   ]
  },
  {
   "cell_type": "code",
   "execution_count": 5,
   "id": "b73e3afe-4170-4339-8a67-ec0dc59421a2",
   "metadata": {},
   "outputs": [
    {
     "data": {
      "text/plain": [
       "(0.0, 'False')"
      ]
     },
     "execution_count": 5,
     "metadata": {},
     "output_type": "execute_result"
    }
   ],
   "source": [
    "float(False),str(False)"
   ]
  },
  {
   "cell_type": "code",
   "execution_count": null,
   "id": "14c87966-8268-4e78-acda-de116d8f96c6",
   "metadata": {},
   "outputs": [],
   "source": []
  }
 ],
 "metadata": {
  "kernelspec": {
   "display_name": "Python 3 (ipykernel)",
   "language": "python",
   "name": "python3"
  },
  "language_info": {
   "codemirror_mode": {
    "name": "ipython",
    "version": 3
   },
   "file_extension": ".py",
   "mimetype": "text/x-python",
   "name": "python",
   "nbconvert_exporter": "python",
   "pygments_lexer": "ipython3",
   "version": "3.12.4"
  }
 },
 "nbformat": 4,
 "nbformat_minor": 5
}

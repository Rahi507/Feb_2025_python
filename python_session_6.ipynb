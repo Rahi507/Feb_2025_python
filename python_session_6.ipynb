{
 "cells": [
  {
   "cell_type": "code",
   "execution_count": 1,
   "id": "9c97a732-4a0b-45f8-9011-d037955e8a0c",
   "metadata": {},
   "outputs": [
    {
     "data": {
      "text/plain": [
       "'C:\\\\Users\\\\abdul\\\\Documents\\\\NareshIt\\\\Phyton'"
      ]
     },
     "execution_count": 1,
     "metadata": {},
     "output_type": "execute_result"
    }
   ],
   "source": [
    "import os\n",
    "os.getcwd()\n"
   ]
  },
  {
   "cell_type": "markdown",
   "id": "9f79b123-c440-4c51-9172-83e4d7d01e78",
   "metadata": {},
   "source": [
    "**Input**"
   ]
  },
  {
   "cell_type": "markdown",
   "id": "98c2762f-e9c4-47b8-ae3e-b951ce0cf6fc",
   "metadata": {},
   "source": [
    "- we can take the values directly in python code\n",
    "    - ex:num=10\n",
    "- we cantakethe values from user like from keyboard\n",
    "- Imagine there is application from we need to fill\n",
    "- In the application form name:square box will appear\n",
    "- you need to enter your name\n",
    "- This is achieved by a keyword **input**\n"
   ]
  },
  {
   "cell_type": "code",
   "execution_count": 1,
   "id": "095d9927-316f-4473-834d-80d2325e46f3",
   "metadata": {},
   "outputs": [
    {
     "name": "stdin",
     "output_type": "stream",
     "text": [
      " naresh it\n"
     ]
    },
    {
     "data": {
      "text/plain": [
       "'naresh it'"
      ]
     },
     "execution_count": 1,
     "metadata": {},
     "output_type": "execute_result"
    }
   ],
   "source": [
    "input()"
   ]
  },
  {
   "cell_type": "code",
   "execution_count": null,
   "id": "ce0a09f6-7baa-4e87-84fe-01d2c3248100",
   "metadata": {},
   "outputs": [],
   "source": [
    "- when we type input()\n",
    "- a square box will appear\n",
    "- you need to observe 3things\n",
    "    - square box\n",
    "- o mark inside square brackets that is before the code cell \n",
    "- *python kernel is black color\n",
    "- "
   ]
  },
  {
   "cell_type": "code",
   "execution_count": 3,
   "id": "e566b6fd-752b-4e37-990c-2014c75fb654",
   "metadata": {},
   "outputs": [
    {
     "name": "stdin",
     "output_type": "stream",
     "text": [
      " rahi\n"
     ]
    },
    {
     "data": {
      "text/plain": [
       "'rahi'"
      ]
     },
     "execution_count": 3,
     "metadata": {},
     "output_type": "execute_result"
    }
   ],
   "source": [
    "input()"
   ]
  },
  {
   "cell_type": "code",
   "execution_count": 5,
   "id": "efdb47ec-f225-41db-b7d5-f7d7ea574181",
   "metadata": {},
   "outputs": [
    {
     "name": "stdin",
     "output_type": "stream",
     "text": [
      " 100\n"
     ]
    },
    {
     "data": {
      "text/plain": [
       "'100'"
      ]
     },
     "execution_count": 5,
     "metadata": {},
     "output_type": "execute_result"
    }
   ],
   "source": [
    "input()"
   ]
  },
  {
   "cell_type": "code",
   "execution_count": 7,
   "id": "e94675d3-19f1-488f-98c7-9e95da213edf",
   "metadata": {},
   "outputs": [
    {
     "name": "stdin",
     "output_type": "stream",
     "text": [
      " True\n"
     ]
    },
    {
     "data": {
      "text/plain": [
       "'True'"
      ]
     },
     "execution_count": 7,
     "metadata": {},
     "output_type": "execute_result"
    }
   ],
   "source": [
    "input()"
   ]
  },
  {
   "cell_type": "markdown",
   "id": "4d1a731e-3ab4-4f09-a7d1-924eb9c73e91",
   "metadata": {},
   "source": [
    "**Note**\n",
    "- Whatever we type in square brackets,the output display in quotes\n",
    "- The output default type is string type"
   ]
  },
  {
   "cell_type": "code",
   "execution_count": 10,
   "id": "155b82b0-7b05-4e6f-bc2f-1384d8fc5ddf",
   "metadata": {},
   "outputs": [
    {
     "name": "stdin",
     "output_type": "stream",
     "text": [
      " 10\n",
      " 20\n",
      " 30\n"
     ]
    },
    {
     "data": {
      "text/plain": [
       "'30'"
      ]
     },
     "execution_count": 10,
     "metadata": {},
     "output_type": "execute_result"
    }
   ],
   "source": [
    "input()\n",
    "input()\n",
    "input()"
   ]
  },
  {
   "cell_type": "code",
   "execution_count": 12,
   "id": "9246cdd8-5f82-4bb9-a05f-70d050862b4e",
   "metadata": {},
   "outputs": [
    {
     "name": "stdin",
     "output_type": "stream",
     "text": [
      " a=10\n"
     ]
    },
    {
     "data": {
      "text/plain": [
       "'a=10'"
      ]
     },
     "execution_count": 12,
     "metadata": {},
     "output_type": "execute_result"
    }
   ],
   "source": [
    "input()"
   ]
  },
  {
   "cell_type": "code",
   "execution_count": 14,
   "id": "bc699144-3f26-4bd7-bda7-cab51ecbb355",
   "metadata": {},
   "outputs": [
    {
     "name": "stdin",
     "output_type": "stream",
     "text": [
      " a=10 b=20 c=a+b print(c)\n"
     ]
    },
    {
     "data": {
      "text/plain": [
       "'a=10 b=20 c=a+b print(c)'"
      ]
     },
     "execution_count": 14,
     "metadata": {},
     "output_type": "execute_result"
    }
   ],
   "source": [
    "input()"
   ]
  },
  {
   "cell_type": "code",
   "execution_count": 20,
   "id": "56f7bfe1-b811-4935-8806-c5fbfd07ebc8",
   "metadata": {},
   "outputs": [
    {
     "name": "stdin",
     "output_type": "stream",
     "text": [
      " 10\n",
      " 20\n"
     ]
    },
    {
     "name": "stdout",
     "output_type": "stream",
     "text": [
      "10\n",
      "20\n",
      "The value of a is:10 and b is:20\n"
     ]
    }
   ],
   "source": [
    "a=input()\n",
    "b=input()\n",
    "print(a)\n",
    "print(b)\n",
    "print(f'The value of a is:{a} and b is:{b}')"
   ]
  },
  {
   "cell_type": "code",
   "execution_count": 24,
   "id": "d158a052-25d6-4cb2-bee0-350899a34311",
   "metadata": {},
   "outputs": [
    {
     "name": "stdin",
     "output_type": "stream",
     "text": [
      " naresh\n",
      " hyderabad\n",
      " india\n"
     ]
    },
    {
     "name": "stdout",
     "output_type": "stream",
     "text": [
      "My name isnaresh,I amfromhyderabad,I am from india\n"
     ]
    }
   ],
   "source": [
    "# Ask the user enter the name\n",
    "# city and country\n",
    "# print the statement\n",
    "name=input()\n",
    "city=input()\n",
    "country=input()\n",
    "print(f'My name is{name},I amfrom{city},I am from {country}')"
   ]
  },
  {
   "cell_type": "code",
   "execution_count": 26,
   "id": "a93bccc6-555f-4486-9464-fe809f4be529",
   "metadata": {},
   "outputs": [
    {
     "name": "stdin",
     "output_type": "stream",
     "text": [
      " 10\n",
      "enter the name rahi\n",
      "enter the name: shaik\n",
      "enter the city: hyd\n",
      "enter okay\n"
     ]
    },
    {
     "data": {
      "text/plain": [
       "'okay'"
      ]
     },
     "execution_count": 26,
     "metadata": {},
     "output_type": "execute_result"
    }
   ],
   "source": [
    "input()\n",
    "input('enter the name')\n",
    "input('enter the name:')\n",
    "input('enter the city:')\n",
    "input('enter')"
   ]
  },
  {
   "cell_type": "code",
   "execution_count": 30,
   "id": "24ffb140-e140-4738-bb43-968bd480c5e3",
   "metadata": {},
   "outputs": [
    {
     "name": "stdin",
     "output_type": "stream",
     "text": [
      "enter the name rahi\n",
      "enter the city: hyd\n",
      "enter the country: india\n"
     ]
    },
    {
     "name": "stdout",
     "output_type": "stream",
     "text": [
      "my name is rahi,I am fromhyd which is located inindia\n"
     ]
    }
   ],
   "source": [
    "name=input('enter the name')\n",
    "city=input('enter the city:')\n",
    "country=input('enter the country:')\n",
    "print(f'my name is {name},I am from{city} which is located in{country}')"
   ]
  },
  {
   "cell_type": "code",
   "execution_count": 38,
   "id": "da00b380-9d8c-4732-baf6-504f7d4a3189",
   "metadata": {},
   "outputs": [
    {
     "name": "stdin",
     "output_type": "stream",
     "text": [
      "n1 10\n",
      "n2 20\n"
     ]
    },
    {
     "data": {
      "text/plain": [
       "'1020'"
      ]
     },
     "execution_count": 38,
     "metadata": {},
     "output_type": "execute_result"
    }
   ],
   "source": [
    "n1=input('n1')\n",
    "n2=input('n2')\n",
    "n1+n2 \n"
   ]
  },
  {
   "cell_type": "code",
   "execution_count": 40,
   "id": "7c269432-8d2e-4f14-8d07-b7cf297432cc",
   "metadata": {},
   "outputs": [
    {
     "data": {
      "text/plain": [
       "100"
      ]
     },
     "execution_count": 40,
     "metadata": {},
     "output_type": "execute_result"
    }
   ],
   "source": [
    "int('100')"
   ]
  },
  {
   "cell_type": "code",
   "execution_count": 42,
   "id": "44603450-df7b-4b54-b96e-fa26f091f9ed",
   "metadata": {},
   "outputs": [
    {
     "data": {
      "text/plain": [
       "300"
      ]
     },
     "execution_count": 42,
     "metadata": {},
     "output_type": "execute_result"
    }
   ],
   "source": [
    "n1=int('100')\n",
    "n2=int('200')\n",
    "n1+n2"
   ]
  },
  {
   "cell_type": "code",
   "execution_count": 44,
   "id": "7025ec9a-aa58-4c13-991b-9a11ee3fb582",
   "metadata": {},
   "outputs": [
    {
     "name": "stdin",
     "output_type": "stream",
     "text": [
      "n1 10\n",
      "n2 20\n"
     ]
    },
    {
     "data": {
      "text/plain": [
       "30"
      ]
     },
     "execution_count": 44,
     "metadata": {},
     "output_type": "execute_result"
    }
   ],
   "source": [
    "n1=int(input('n1'))\n",
    "n2=int(input('n2'))\n",
    "n1+n2 \n"
   ]
  },
  {
   "cell_type": "code",
   "execution_count": 46,
   "id": "7a7a65d9-7440-4e91-a536-003ed95f9c76",
   "metadata": {},
   "outputs": [
    {
     "data": {
      "text/plain": [
       "'100200'"
      ]
     },
     "execution_count": 46,
     "metadata": {},
     "output_type": "execute_result"
    }
   ],
   "source": [
    "n1='100'\n",
    "n2='200'\n",
    "n1+n2"
   ]
  },
  {
   "cell_type": "code",
   "execution_count": 50,
   "id": "207ec249-dbae-4000-8d1d-50e286b7e353",
   "metadata": {},
   "outputs": [
    {
     "data": {
      "text/plain": [
       "300"
      ]
     },
     "execution_count": 50,
     "metadata": {},
     "output_type": "execute_result"
    }
   ],
   "source": [
    "n1='100'\n",
    "n2='200'\n",
    "int(n1)+int(n2) #int('100')+int('200')"
   ]
  },
  {
   "cell_type": "code",
   "execution_count": 52,
   "id": "531fb67c-95f7-4b9d-875c-58865be93f61",
   "metadata": {},
   "outputs": [
    {
     "data": {
      "text/plain": [
       "100200"
      ]
     },
     "execution_count": 52,
     "metadata": {},
     "output_type": "execute_result"
    }
   ],
   "source": [
    "#wrong\n",
    "n1='100'\n",
    "n2='200'\n",
    "int(n1+n2)# int('100'+'200')"
   ]
  },
  {
   "cell_type": "code",
   "execution_count": 54,
   "id": "d065cabf-3c72-4333-9d6f-d536420154a9",
   "metadata": {},
   "outputs": [
    {
     "name": "stdin",
     "output_type": "stream",
     "text": [
      "enter the number1: 100\n",
      "enter the number2: 200.5\n"
     ]
    },
    {
     "ename": "ValueError",
     "evalue": "invalid literal for int() with base 10: '200.5'",
     "output_type": "error",
     "traceback": [
      "\u001b[1;31m---------------------------------------------------------------------------\u001b[0m",
      "\u001b[1;31mValueError\u001b[0m                                Traceback (most recent call last)",
      "Cell \u001b[1;32mIn[54], line 2\u001b[0m\n\u001b[0;32m      1\u001b[0m n1\u001b[38;5;241m=\u001b[39m\u001b[38;5;28mint\u001b[39m(\u001b[38;5;28minput\u001b[39m(\u001b[38;5;124m\"\u001b[39m\u001b[38;5;124menter the number1:\u001b[39m\u001b[38;5;124m\"\u001b[39m))\n\u001b[1;32m----> 2\u001b[0m n2\u001b[38;5;241m=\u001b[39m\u001b[38;5;28mint\u001b[39m(\u001b[38;5;28minput\u001b[39m(\u001b[38;5;124m\"\u001b[39m\u001b[38;5;124menter the number2:\u001b[39m\u001b[38;5;124m\"\u001b[39m))\n\u001b[0;32m      3\u001b[0m n1\u001b[38;5;241m+\u001b[39mn2\n",
      "\u001b[1;31mValueError\u001b[0m: invalid literal for int() with base 10: '200.5'"
     ]
    }
   ],
   "source": [
    "n1=int(input(\"enter the number1:\"))\n",
    "n2=int(input(\"enter the number2:\"))\n",
    "n1+n2\n"
   ]
  },
  {
   "cell_type": "code",
   "execution_count": 1,
   "id": "f6703a1f-2786-4688-908b-ae4e37882784",
   "metadata": {},
   "outputs": [
    {
     "name": "stdin",
     "output_type": "stream",
     "text": [
      "enter the number1: 200.35\n"
     ]
    },
    {
     "ename": "ValueError",
     "evalue": "invalid literal for int() with base 10: '200.35'",
     "output_type": "error",
     "traceback": [
      "\u001b[1;31m---------------------------------------------------------------------------\u001b[0m",
      "\u001b[1;31mValueError\u001b[0m                                Traceback (most recent call last)",
      "Cell \u001b[1;32mIn[1], line 1\u001b[0m\n\u001b[1;32m----> 1\u001b[0m n1\u001b[38;5;241m=\u001b[39m\u001b[38;5;28mint\u001b[39m(\u001b[38;5;28minput\u001b[39m(\u001b[38;5;124m\"\u001b[39m\u001b[38;5;124menter the number1:\u001b[39m\u001b[38;5;124m\"\u001b[39m))\n\u001b[0;32m      2\u001b[0m n2\u001b[38;5;241m=\u001b[39m\u001b[38;5;28mfloat\u001b[39m(\u001b[38;5;28minput\u001b[39m(\u001b[38;5;124m\"\u001b[39m\u001b[38;5;124menter the number2:\u001b[39m\u001b[38;5;124m\"\u001b[39m))\n\u001b[0;32m      3\u001b[0m n1\u001b[38;5;241m+\u001b[39mn2\n",
      "\u001b[1;31mValueError\u001b[0m: invalid literal for int() with base 10: '200.35'"
     ]
    }
   ],
   "source": [
    "n1=int(input(\"enter the number1:\"))\n",
    "n2=int(input(\"enter the number2:\"))\n",
    "n1+n2\n"
   ]
  },
  {
   "cell_type": "markdown",
   "id": "9acaeb8f-8339-46ef-a249-f8792ed31f36",
   "metadata": {},
   "source": [
    "**eval**\n",
    "- Whenever you listen eval:evaluate\n",
    "- evaluate is belongs to math family\n",
    "- It will convert integer value to integer\n",
    "- It will convert float value to float only\n",
    "- directly apply the eval and it will convert into corresponding data type\n",
    "- whenever you use eval,dont provide strings,it will give error"
   ]
  },
  {
   "cell_type": "code",
   "execution_count": 8,
   "id": "759b6d3e-7030-4c42-8a46-825fd0a9a518",
   "metadata": {},
   "outputs": [
    {
     "name": "stdin",
     "output_type": "stream",
     "text": [
      "enter the number1: 50.5\n",
      "enter the number2: 67\n"
     ]
    },
    {
     "name": "stdout",
     "output_type": "stream",
     "text": [
      "117.5\n"
     ]
    }
   ],
   "source": [
    "n1=eval(input(\"enter the number1:\"))\n",
    "n2=eval(input(\"enter the number2:\"))\n",
    "print(n1+n2)"
   ]
  },
  {
   "cell_type": "code",
   "execution_count": 14,
   "id": "49873617-740c-4716-ba4b-396749c9cfa7",
   "metadata": {},
   "outputs": [
    {
     "name": "stdin",
     "output_type": "stream",
     "text": [
      "enter the number: 10\n",
      "enter the value n2: 20\n",
      "enter the value n3: 30\n"
     ]
    },
    {
     "name": "stdout",
     "output_type": "stream",
     "text": [
      "20.0\n"
     ]
    }
   ],
   "source": [
    "#Q1:\n",
    "n1=eval(input('enter the number:'))\n",
    "n2=eval(input('enter the value n2:'))\n",
    "n3=eval(input('enter the value n3:'))\n",
    "avg=(n1+n2+n3)/3\n",
    "print(avg)"
   ]
  },
  {
   "cell_type": "code",
   "execution_count": 16,
   "id": "e7a1dfcd-7b85-4036-96f9-eb169408dedb",
   "metadata": {},
   "outputs": [
    {
     "name": "stdin",
     "output_type": "stream",
     "text": [
      "enter the height: 20.5\n",
      "enter the breadth: 10.5\n"
     ]
    },
    {
     "name": "stdout",
     "output_type": "stream",
     "text": [
      "107.625\n"
     ]
    }
   ],
   "source": [
    "h1=eval(input('enter the height:'))\n",
    "b1=eval(input('enter the breadth:'))\n",
    "area=(1/2)*b1*h1\n",
    "print(area)"
   ]
  },
  {
   "cell_type": "code",
   "execution_count": 20,
   "id": "b710f490-8f98-4bb6-a62c-1b8b2730bd8f",
   "metadata": {},
   "outputs": [
    {
     "name": "stdin",
     "output_type": "stream",
     "text": [
      "enter the radius: 20\n"
     ]
    },
    {
     "name": "stdout",
     "output_type": "stream",
     "text": [
      "1256.0\n"
     ]
    }
   ],
   "source": [
    "r=eval(input('enter the radius:'))\n",
    "area=3.14*r*r\n",
    "print(area)"
   ]
  },
  {
   "cell_type": "code",
   "execution_count": 22,
   "id": "61c9c1f3-0067-4703-b5d2-f648cb061cc7",
   "metadata": {},
   "outputs": [
    {
     "name": "stdin",
     "output_type": "stream",
     "text": [
      "enter the length: 100.5\n",
      "enter the breadth: 200.4\n"
     ]
    },
    {
     "name": "stdout",
     "output_type": "stream",
     "text": [
      "20140.2\n"
     ]
    }
   ],
   "source": [
    "l=eval(input('enter the length:'))\n",
    "b=eval(input('enter the breadth:'))\n",
    "area=l*b\n",
    "print(area)"
   ]
  },
  {
   "cell_type": "code",
   "execution_count": 24,
   "id": "706e8cb9-5dde-426d-bfe3-122119de92c5",
   "metadata": {},
   "outputs": [
    {
     "name": "stdin",
     "output_type": "stream",
     "text": [
      "enter the amount: 1000\n",
      "enter the tip: 10\n"
     ]
    },
    {
     "name": "stdout",
     "output_type": "stream",
     "text": [
      "1100.0\n"
     ]
    }
   ],
   "source": [
    "bill_amount=eval(input('enter the amount:'))\n",
    "tip_percentage=eval(input('enter the tip:'))\n",
    "tip_amount=bill_amount*tip_percentage/100\n",
    "total_bill=bill_amount+tip_amount\n",
    "print(total_bill)"
   ]
  },
  {
   "cell_type": "code",
   "execution_count": null,
   "id": "b9052894-9b7d-4cbe-890b-47e2b5558725",
   "metadata": {},
   "outputs": [],
   "source": []
  }
 ],
 "metadata": {
  "kernelspec": {
   "display_name": "Python 3 (ipykernel)",
   "language": "python",
   "name": "python3"
  },
  "language_info": {
   "codemirror_mode": {
    "name": "ipython",
    "version": 3
   },
   "file_extension": ".py",
   "mimetype": "text/x-python",
   "name": "python",
   "nbconvert_exporter": "python",
   "pygments_lexer": "ipython3",
   "version": "3.12.4"
  }
 },
 "nbformat": 4,
 "nbformat_minor": 5
}

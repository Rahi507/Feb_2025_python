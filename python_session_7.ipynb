{
 "cells": [
  {
   "cell_type": "markdown",
   "id": "37c271b3-7feb-4d2a-ba68-2b5e9aa26d46",
   "metadata": {},
   "source": [
    "#Packages\n",
    "**import**\n",
    "- import is a keyword to use the package\n",
    "- The syntax is:\n",
    "    - **import package_name**"
   ]
  },
  {
   "cell_type": "markdown",
   "id": "b8c09989-abe2-49b9-ad4a-ae24ffbba879",
   "metadata": {},
   "source": [
    "# package name:random\n",
    "# package name:math\n",
    "# package name:time\n",
    "# package name: cv2"
   ]
  },
  {
   "cell_type": "code",
   "execution_count": 3,
   "id": "ffab0828-d7d1-430b-b44e-ef3ec00daf3f",
   "metadata": {},
   "outputs": [],
   "source": [
    "import random"
   ]
  },
  {
   "cell_type": "code",
   "execution_count": 5,
   "id": "16a9504e-5455-4a62-8eff-ee945abe7379",
   "metadata": {},
   "outputs": [],
   "source": [
    "import math"
   ]
  },
  {
   "cell_type": "code",
   "execution_count": 7,
   "id": "a5ecf896-9fa6-4b36-ace4-5ceba2078302",
   "metadata": {},
   "outputs": [],
   "source": [
    "import time"
   ]
  },
  {
   "cell_type": "code",
   "execution_count": 9,
   "id": "ea9431e7-131e-4004-afe4-e753af0d4c97",
   "metadata": {},
   "outputs": [
    {
     "ename": "ModuleNotFoundError",
     "evalue": "No module named 'cv2'",
     "output_type": "error",
     "traceback": [
      "\u001b[1;31m---------------------------------------------------------------------------\u001b[0m",
      "\u001b[1;31mModuleNotFoundError\u001b[0m                       Traceback (most recent call last)",
      "Cell \u001b[1;32mIn[9], line 1\u001b[0m\n\u001b[1;32m----> 1\u001b[0m \u001b[38;5;28;01mimport\u001b[39;00m \u001b[38;5;21;01mcv2\u001b[39;00m\n",
      "\u001b[1;31mModuleNotFoundError\u001b[0m: No module named 'cv2'"
     ]
    }
   ],
   "source": [
    "import cv2"
   ]
  },
  {
   "cell_type": "markdown",
   "id": "0bc01550-afc3-40b7-bafc-eb62e7506bec",
   "metadata": {},
   "source": [
    "- Module not found error:\n",
    "- Whenever we import any package\n",
    "- if it is available in our laptop then no error\n",
    "- if it is not available then we will get error"
   ]
  },
  {
   "cell_type": "markdown",
   "id": "64bfb0d6-8fa7-4763-82dd-9b1228b4895c",
   "metadata": {},
   "source": [
    "**Directory**\n",
    "- It is a directory to know how many sub methods are available in a singlepackage\n",
    "- syntax is:\n",
    "    - dir(package_name)"
   ]
  },
  {
   "cell_type": "code",
   "execution_count": 13,
   "id": "e7718902-1e4b-4b48-83d6-b73c9314895a",
   "metadata": {},
   "outputs": [
    {
     "data": {
      "text/plain": [
       "['BPF',\n",
       " 'LOG4',\n",
       " 'NV_MAGICCONST',\n",
       " 'RECIP_BPF',\n",
       " 'Random',\n",
       " 'SG_MAGICCONST',\n",
       " 'SystemRandom',\n",
       " 'TWOPI',\n",
       " '_ONE',\n",
       " '_Sequence',\n",
       " '__all__',\n",
       " '__builtins__',\n",
       " '__cached__',\n",
       " '__doc__',\n",
       " '__file__',\n",
       " '__loader__',\n",
       " '__name__',\n",
       " '__package__',\n",
       " '__spec__',\n",
       " '_accumulate',\n",
       " '_acos',\n",
       " '_bisect',\n",
       " '_ceil',\n",
       " '_cos',\n",
       " '_e',\n",
       " '_exp',\n",
       " '_fabs',\n",
       " '_floor',\n",
       " '_index',\n",
       " '_inst',\n",
       " '_isfinite',\n",
       " '_lgamma',\n",
       " '_log',\n",
       " '_log2',\n",
       " '_os',\n",
       " '_pi',\n",
       " '_random',\n",
       " '_repeat',\n",
       " '_sha512',\n",
       " '_sin',\n",
       " '_sqrt',\n",
       " '_test',\n",
       " '_test_generator',\n",
       " '_urandom',\n",
       " '_warn',\n",
       " 'betavariate',\n",
       " 'binomialvariate',\n",
       " 'choice',\n",
       " 'choices',\n",
       " 'expovariate',\n",
       " 'gammavariate',\n",
       " 'gauss',\n",
       " 'getrandbits',\n",
       " 'getstate',\n",
       " 'lognormvariate',\n",
       " 'normalvariate',\n",
       " 'paretovariate',\n",
       " 'randbytes',\n",
       " 'randint',\n",
       " 'random',\n",
       " 'randrange',\n",
       " 'sample',\n",
       " 'seed',\n",
       " 'setstate',\n",
       " 'shuffle',\n",
       " 'triangular',\n",
       " 'uniform',\n",
       " 'vonmisesvariate',\n",
       " 'weibullvariate']"
      ]
     },
     "execution_count": 13,
     "metadata": {},
     "output_type": "execute_result"
    }
   ],
   "source": [
    "dir(random)"
   ]
  },
  {
   "cell_type": "markdown",
   "id": "1310e13d-9b00-49d8-bb07-376a5a2e6724",
   "metadata": {},
   "source": [
    "# step-1:import package name\n",
    "# step-2:dir(package_name)"
   ]
  },
  {
   "cell_type": "code",
   "execution_count": 16,
   "id": "2f2dac72-8d3b-481b-a596-af92d0e7ebf9",
   "metadata": {},
   "outputs": [
    {
     "data": {
      "text/plain": [
       "['__doc__',\n",
       " '__loader__',\n",
       " '__name__',\n",
       " '__package__',\n",
       " '__spec__',\n",
       " 'acos',\n",
       " 'acosh',\n",
       " 'asin',\n",
       " 'asinh',\n",
       " 'atan',\n",
       " 'atan2',\n",
       " 'atanh',\n",
       " 'cbrt',\n",
       " 'ceil',\n",
       " 'comb',\n",
       " 'copysign',\n",
       " 'cos',\n",
       " 'cosh',\n",
       " 'degrees',\n",
       " 'dist',\n",
       " 'e',\n",
       " 'erf',\n",
       " 'erfc',\n",
       " 'exp',\n",
       " 'exp2',\n",
       " 'expm1',\n",
       " 'fabs',\n",
       " 'factorial',\n",
       " 'floor',\n",
       " 'fmod',\n",
       " 'frexp',\n",
       " 'fsum',\n",
       " 'gamma',\n",
       " 'gcd',\n",
       " 'hypot',\n",
       " 'inf',\n",
       " 'isclose',\n",
       " 'isfinite',\n",
       " 'isinf',\n",
       " 'isnan',\n",
       " 'isqrt',\n",
       " 'lcm',\n",
       " 'ldexp',\n",
       " 'lgamma',\n",
       " 'log',\n",
       " 'log10',\n",
       " 'log1p',\n",
       " 'log2',\n",
       " 'modf',\n",
       " 'nan',\n",
       " 'nextafter',\n",
       " 'perm',\n",
       " 'pi',\n",
       " 'pow',\n",
       " 'prod',\n",
       " 'radians',\n",
       " 'remainder',\n",
       " 'sin',\n",
       " 'sinh',\n",
       " 'sqrt',\n",
       " 'sumprod',\n",
       " 'tan',\n",
       " 'tanh',\n",
       " 'tau',\n",
       " 'trunc',\n",
       " 'ulp']"
      ]
     },
     "execution_count": 16,
     "metadata": {},
     "output_type": "execute_result"
    }
   ],
   "source": [
    "import math\n",
    "dir(math)"
   ]
  },
  {
   "cell_type": "markdown",
   "id": "aedc753d-cc59-40dd-ad7a-b925a75f7e08",
   "metadata": {},
   "source": [
    "**How to use this methods:**\n",
    "- syntax is:package_name.method_name"
   ]
  },
  {
   "cell_type": "code",
   "execution_count": 21,
   "id": "24a770c5-f714-4f18-981a-9fa1200c8dba",
   "metadata": {},
   "outputs": [
    {
     "data": {
      "text/plain": [
       "<bound method Random.randint of <random.Random object at 0x0000022F669F0560>>"
      ]
     },
     "execution_count": 21,
     "metadata": {},
     "output_type": "execute_result"
    }
   ],
   "source": [
    "random.randint"
   ]
  },
  {
   "cell_type": "code",
   "execution_count": 27,
   "id": "da8d7e29-529a-4d6d-99a6-2d13b81d40f8",
   "metadata": {},
   "outputs": [
    {
     "data": {
      "text/plain": [
       "<bound method Random.randint of <random.Random object at 0x0000022F669F0560>>"
      ]
     },
     "execution_count": 27,
     "metadata": {},
     "output_type": "execute_result"
    }
   ],
   "source": [
    "import random\n",
    "dir(random)\n",
    "random.randint"
   ]
  },
  {
   "cell_type": "code",
   "execution_count": 29,
   "id": "ac765012-1914-4064-81e1-148f318a61a0",
   "metadata": {},
   "outputs": [
    {
     "data": {
      "text/plain": [
       "<function math.tan(x, /)>"
      ]
     },
     "execution_count": 29,
     "metadata": {},
     "output_type": "execute_result"
    }
   ],
   "source": [
    "import math\n",
    "dir(math)\n",
    "math.tan"
   ]
  },
  {
   "cell_type": "code",
   "execution_count": 31,
   "id": "a8dab9f7-3069-4958-b46d-d7a6d4190e65",
   "metadata": {},
   "outputs": [
    {
     "ename": "AttributeError",
     "evalue": "module 'random' has no attribute 'rahi'",
     "output_type": "error",
     "traceback": [
      "\u001b[1;31m---------------------------------------------------------------------------\u001b[0m",
      "\u001b[1;31mAttributeError\u001b[0m                            Traceback (most recent call last)",
      "Cell \u001b[1;32mIn[31], line 1\u001b[0m\n\u001b[1;32m----> 1\u001b[0m random\u001b[38;5;241m.\u001b[39mrahi\n",
      "\u001b[1;31mAttributeError\u001b[0m: module 'random' has no attribute 'rahi'"
     ]
    }
   ],
   "source": [
    "random.rahi"
   ]
  },
  {
   "cell_type": "code",
   "execution_count": 33,
   "id": "196105dc-541f-42bf-a1a9-069aa8d1550f",
   "metadata": {},
   "outputs": [],
   "source": [
    "# step-1:import package name\n",
    "# step-2:dir(package_name)\n",
    "# step-3:package_name.method_name"
   ]
  },
  {
   "cell_type": "markdown",
   "id": "c5199fae-eeb9-413d-9f5a-e35aaa4f24c0",
   "metadata": {},
   "source": [
    "**Attribute error**\n",
    "- If the method is not available we will get attribute error"
   ]
  },
  {
   "cell_type": "code",
   "execution_count": 37,
   "id": "9241def4-15bd-497a-a9c3-a555700161a7",
   "metadata": {},
   "outputs": [],
   "source": [
    "# Now you know how toimport the package \n",
    "# you know how many methods are available inside the package\n",
    "# you know how to call the method\n",
    "# if packageis not there:Module not found error\n",
    "# if method isnot there:Attribute error"
   ]
  },
  {
   "cell_type": "code",
   "execution_count": 39,
   "id": "f18f786f-daac-4bcf-b9a1-5e02ee29d6fd",
   "metadata": {},
   "outputs": [],
   "source": [
    "# After package name type any alphabet then use tab button  then methods starting with the same letter will availble"
   ]
  },
  {
   "cell_type": "markdown",
   "id": "5bd17d51-8079-4578-a56b-779c6d339efe",
   "metadata": {},
   "source": [
    "**help**\n",
    "- in order to understand the ue of method\n",
    "- first call the method\n",
    "- then apply help\n",
    "- syntax is\n",
    "- help(package_name.method_name)"
   ]
  },
  {
   "cell_type": "code",
   "execution_count": 42,
   "id": "f796fc2d-39ca-418b-bdb2-9d2499e08266",
   "metadata": {},
   "outputs": [
    {
     "name": "stdout",
     "output_type": "stream",
     "text": [
      "Help on method randint in module random:\n",
      "\n",
      "randint(a, b) method of random.Random instance\n",
      "    Return random integer in range [a, b], including both end points.\n",
      "\n"
     ]
    }
   ],
   "source": [
    "help(random.randint)"
   ]
  },
  {
   "cell_type": "code",
   "execution_count": 48,
   "id": "0dc48ec0-86a2-43ec-8dd9-2fa4899e95ec",
   "metadata": {},
   "outputs": [
    {
     "data": {
      "text/plain": [
       "23"
      ]
     },
     "execution_count": 48,
     "metadata": {},
     "output_type": "execute_result"
    }
   ],
   "source": [
    "# you want to get a random number between 10,100\n",
    "random.randint(10,100)"
   ]
  },
  {
   "cell_type": "code",
   "execution_count": 50,
   "id": "e1918530-03a9-451c-bb94-516ef068ad94",
   "metadata": {},
   "outputs": [
    {
     "name": "stdout",
     "output_type": "stream",
     "text": [
      "Help on built-in function tan in module math:\n",
      "\n",
      "tan(x, /)\n",
      "    Return the tangent of x (measured in radians).\n",
      "\n"
     ]
    }
   ],
   "source": [
    "help(math.tan)"
   ]
  },
  {
   "cell_type": "code",
   "execution_count": 58,
   "id": "4841042b-9962-45c9-b946-98c23240a4a9",
   "metadata": {},
   "outputs": [
    {
     "name": "stdout",
     "output_type": "stream",
     "text": [
      "Help on method randint in module random:\n",
      "\n",
      "randint(a, b) method of random.Random instance\n",
      "    Return random integer in range [a, b], including both end points.\n",
      "\n"
     ]
    },
    {
     "data": {
      "text/plain": [
       "15"
      ]
     },
     "execution_count": 58,
     "metadata": {},
     "output_type": "execute_result"
    }
   ],
   "source": [
    "import random\n",
    "dir(random)\n",
    "random.randint\n",
    "help(random.randint)\n",
    "random.randint(10,20)"
   ]
  },
  {
   "cell_type": "code",
   "execution_count": 60,
   "id": "6381cf67-a524-46a6-b148-bf52bf122875",
   "metadata": {},
   "outputs": [
    {
     "name": "stdout",
     "output_type": "stream",
     "text": [
      "Help on built-in function sqrt in module math:\n",
      "\n",
      "sqrt(x, /)\n",
      "    Return the square root of x.\n",
      "\n"
     ]
    }
   ],
   "source": [
    "import math\n",
    "dir(math)\n",
    "help(math.sqrt)"
   ]
  },
  {
   "cell_type": "code",
   "execution_count": 62,
   "id": "52c60efc-d350-4e78-8441-a598e171ddb9",
   "metadata": {},
   "outputs": [
    {
     "data": {
      "text/plain": [
       "5.0"
      ]
     },
     "execution_count": 62,
     "metadata": {},
     "output_type": "execute_result"
    }
   ],
   "source": [
    "math.sqrt(25)"
   ]
  },
  {
   "cell_type": "code",
   "execution_count": 64,
   "id": "48e89e67-ae03-405b-b9aa-9f007aa14993",
   "metadata": {},
   "outputs": [
    {
     "data": {
      "text/plain": [
       "-6.405331196646276"
      ]
     },
     "execution_count": 64,
     "metadata": {},
     "output_type": "execute_result"
    }
   ],
   "source": [
    "math.tan(30)"
   ]
  },
  {
   "cell_type": "code",
   "execution_count": 66,
   "id": "9497c523-896f-4ea2-8658-bc3e0399e582",
   "metadata": {},
   "outputs": [
    {
     "name": "stdout",
     "output_type": "stream",
     "text": [
      "Help on method randint in module random:\n",
      "\n",
      "randint(a, b) method of random.Random instance\n",
      "    Return random integer in range [a, b], including both end points.\n",
      "\n"
     ]
    }
   ],
   "source": [
    "import random\n",
    "dir(random)\n",
    "help(random.randint)"
   ]
  },
  {
   "cell_type": "code",
   "execution_count": 70,
   "id": "5b52db68-1931-4d88-8e75-405bede0e54a",
   "metadata": {},
   "outputs": [
    {
     "data": {
      "text/plain": [
       "<bound method Random.randint of <random.Random object at 0x0000022F669F0560>>"
      ]
     },
     "execution_count": 70,
     "metadata": {},
     "output_type": "execute_result"
    }
   ],
   "source": [
    "random.randint"
   ]
  },
  {
   "cell_type": "markdown",
   "id": "c57fdf5f-ad49-4ba7-befe-236c140ee511",
   "metadata": {},
   "source": [
    "- bound method means brackets are misssed"
   ]
  },
  {
   "cell_type": "code",
   "execution_count": 75,
   "id": "47506097-44df-4fa2-adc6-b9c0b37e9e8e",
   "metadata": {},
   "outputs": [
    {
     "ename": "TypeError",
     "evalue": "Random.randint() missing 2 required positional arguments: 'a' and 'b'",
     "output_type": "error",
     "traceback": [
      "\u001b[1;31m---------------------------------------------------------------------------\u001b[0m",
      "\u001b[1;31mTypeError\u001b[0m                                 Traceback (most recent call last)",
      "Cell \u001b[1;32mIn[75], line 1\u001b[0m\n\u001b[1;32m----> 1\u001b[0m random\u001b[38;5;241m.\u001b[39mrandint()\n",
      "\u001b[1;31mTypeError\u001b[0m: Random.randint() missing 2 required positional arguments: 'a' and 'b'"
     ]
    }
   ],
   "source": [
    "random.randint()"
   ]
  },
  {
   "cell_type": "code",
   "execution_count": 77,
   "id": "5897c9c1-2e2e-46cd-a17b-3021df708d6d",
   "metadata": {},
   "outputs": [
    {
     "ename": "TypeError",
     "evalue": "Random.randint() missing 1 required positional argument: 'b'",
     "output_type": "error",
     "traceback": [
      "\u001b[1;31m---------------------------------------------------------------------------\u001b[0m",
      "\u001b[1;31mTypeError\u001b[0m                                 Traceback (most recent call last)",
      "Cell \u001b[1;32mIn[77], line 1\u001b[0m\n\u001b[1;32m----> 1\u001b[0m random\u001b[38;5;241m.\u001b[39mrandint(\u001b[38;5;241m10\u001b[39m)\n",
      "\u001b[1;31mTypeError\u001b[0m: Random.randint() missing 1 required positional argument: 'b'"
     ]
    }
   ],
   "source": [
    "random.randint(10)"
   ]
  },
  {
   "cell_type": "code",
   "execution_count": 81,
   "id": "cf3537b5-90ec-492b-a8aa-660686c96a21",
   "metadata": {},
   "outputs": [
    {
     "data": {
      "text/plain": [
       "13"
      ]
     },
     "execution_count": 81,
     "metadata": {},
     "output_type": "execute_result"
    }
   ],
   "source": [
    "random.randint(10,20)"
   ]
  },
  {
   "cell_type": "code",
   "execution_count": 83,
   "id": "7a4da66f-6794-4dd7-be3c-d9ace2394746",
   "metadata": {},
   "outputs": [
    {
     "data": {
      "text/plain": [
       "<function math.sqrt(x, /)>"
      ]
     },
     "execution_count": 83,
     "metadata": {},
     "output_type": "execute_result"
    }
   ],
   "source": [
    "math.sqrt"
   ]
  },
  {
   "cell_type": "code",
   "execution_count": 85,
   "id": "fe2b9bd0-e20e-40e5-9442-44c5b2f00f85",
   "metadata": {},
   "outputs": [
    {
     "ename": "TypeError",
     "evalue": "math.sqrt() takes exactly one argument (0 given)",
     "output_type": "error",
     "traceback": [
      "\u001b[1;31m---------------------------------------------------------------------------\u001b[0m",
      "\u001b[1;31mTypeError\u001b[0m                                 Traceback (most recent call last)",
      "Cell \u001b[1;32mIn[85], line 1\u001b[0m\n\u001b[1;32m----> 1\u001b[0m math\u001b[38;5;241m.\u001b[39msqrt()\n",
      "\u001b[1;31mTypeError\u001b[0m: math.sqrt() takes exactly one argument (0 given)"
     ]
    }
   ],
   "source": [
    "math.sqrt()"
   ]
  },
  {
   "cell_type": "code",
   "execution_count": 87,
   "id": "76f10ed1-f990-4ae0-80e4-c9f171f1497b",
   "metadata": {},
   "outputs": [
    {
     "data": {
      "text/plain": [
       "6.0"
      ]
     },
     "execution_count": 87,
     "metadata": {},
     "output_type": "execute_result"
    }
   ],
   "source": [
    "math.sqrt(36)"
   ]
  },
  {
   "cell_type": "code",
   "execution_count": null,
   "id": "8df6e3f3-572f-4699-b669-5c6f27d2f670",
   "metadata": {},
   "outputs": [],
   "source": [
    "#method-name:random"
   ]
  },
  {
   "cell_type": "code",
   "execution_count": 165,
   "id": "22206873-b916-41ff-8c78-fb60efb84ff9",
   "metadata": {},
   "outputs": [
    {
     "name": "stdout",
     "output_type": "stream",
     "text": [
      "Help on built-in function random:\n",
      "\n",
      "random() method of random.Random instance\n",
      "    random() -> x in the interval [0, 1).\n",
      "\n"
     ]
    }
   ],
   "source": [
    "help(random.random)"
   ]
  },
  {
   "cell_type": "code",
   "execution_count": 99,
   "id": "f1d05916-d71b-43fa-9a70-f2b8582cc4ef",
   "metadata": {},
   "outputs": [
    {
     "data": {
      "text/plain": [
       "0.6296226158169326"
      ]
     },
     "execution_count": 99,
     "metadata": {},
     "output_type": "execute_result"
    }
   ],
   "source": [
    "random.random()"
   ]
  },
  {
   "cell_type": "code",
   "execution_count": null,
   "id": "446e4189-6c5b-4fd9-8356-6ee59eb23aaa",
   "metadata": {},
   "outputs": [],
   "source": [
    "#method_name:pi"
   ]
  },
  {
   "cell_type": "code",
   "execution_count": 101,
   "id": "085f9eb1-c7c7-4589-ba70-a0a72c5d8855",
   "metadata": {},
   "outputs": [
    {
     "data": {
      "text/plain": [
       "3.141592653589793"
      ]
     },
     "execution_count": 101,
     "metadata": {},
     "output_type": "execute_result"
    }
   ],
   "source": [
    "math.pi"
   ]
  },
  {
   "cell_type": "code",
   "execution_count": 103,
   "id": "e7eebae6-5bbb-42c0-8bd4-260effa222ae",
   "metadata": {},
   "outputs": [],
   "source": [
    "#method_name:pow"
   ]
  },
  {
   "cell_type": "code",
   "execution_count": 155,
   "id": "56955f6f-928e-4b7d-bcc0-5e856468fbca",
   "metadata": {},
   "outputs": [
    {
     "name": "stdout",
     "output_type": "stream",
     "text": [
      "Help on built-in function pow in module math:\n",
      "\n",
      "pow(x, y, /)\n",
      "    Return x**y (x to the power of y).\n",
      "\n"
     ]
    }
   ],
   "source": [
    "help(math.pow)"
   ]
  },
  {
   "cell_type": "code",
   "execution_count": 107,
   "id": "ddea61cb-bf11-480a-8689-18bf441186bd",
   "metadata": {},
   "outputs": [
    {
     "data": {
      "text/plain": [
       "8.0"
      ]
     },
     "execution_count": 107,
     "metadata": {},
     "output_type": "execute_result"
    }
   ],
   "source": [
    "math.pow(2,3)"
   ]
  },
  {
   "cell_type": "code",
   "execution_count": null,
   "id": "7cf8f1ed-1a51-42eb-aeb9-0b0f24867a7f",
   "metadata": {},
   "outputs": [],
   "source": [
    "#method_name:sin"
   ]
  },
  {
   "cell_type": "code",
   "execution_count": 157,
   "id": "3525d914-b097-4452-b66b-7e39b25190bc",
   "metadata": {},
   "outputs": [
    {
     "name": "stdout",
     "output_type": "stream",
     "text": [
      "Help on built-in function sin in module math:\n",
      "\n",
      "sin(x, /)\n",
      "    Return the sine of x (measured in radians).\n",
      "\n"
     ]
    }
   ],
   "source": [
    "help(math.sin)"
   ]
  },
  {
   "cell_type": "code",
   "execution_count": 111,
   "id": "47e44473-0d0d-4fec-8dcc-72a5a4294998",
   "metadata": {},
   "outputs": [
    {
     "data": {
      "text/plain": [
       "-0.9880316240928618"
      ]
     },
     "execution_count": 111,
     "metadata": {},
     "output_type": "execute_result"
    }
   ],
   "source": [
    "math.sin(30)"
   ]
  },
  {
   "cell_type": "code",
   "execution_count": 113,
   "id": "8a932398-2872-4059-bd25-b2e2dca91476",
   "metadata": {},
   "outputs": [],
   "source": [
    "#method_name:sleep \n",
    "#package_name:time"
   ]
  },
  {
   "cell_type": "code",
   "execution_count": 173,
   "id": "7eec67d7-d853-4c85-aefa-c101325f9cff",
   "metadata": {},
   "outputs": [
    {
     "name": "stdout",
     "output_type": "stream",
     "text": [
      "Help on built-in function sleep in module time:\n",
      "\n",
      "sleep(...)\n",
      "    sleep(seconds)\n",
      "\n",
      "    Delay execution for a given number of seconds.  The argument may be\n",
      "    a floating point number for subsecond precision.\n",
      "\n"
     ]
    }
   ],
   "source": [
    "help(time.sleep)"
   ]
  },
  {
   "cell_type": "code",
   "execution_count": 175,
   "id": "b540fcc5-721a-4a20-b33f-d27bef3384a0",
   "metadata": {},
   "outputs": [
    {
     "name": "stdout",
     "output_type": "stream",
     "text": [
      "hello\n",
      "bye\n"
     ]
    }
   ],
   "source": [
    "print('hello')\n",
    "time.sleep(5)\n",
    "print('bye')"
   ]
  },
  {
   "cell_type": "code",
   "execution_count": null,
   "id": "ea550837-919b-450c-8e7a-ad6120b3f826",
   "metadata": {},
   "outputs": [],
   "source": [
    "# time :delay in time to print bye after hello"
   ]
  },
  {
   "cell_type": "code",
   "execution_count": 121,
   "id": "a3dc20f3-9b79-4fbb-8082-07d44dfe76d9",
   "metadata": {},
   "outputs": [
    {
     "data": {
      "text/plain": [
       "'3.12.4 | packaged by Anaconda, Inc. | (main, Jun 18 2024, 15:03:56) [MSC v.1929 64 bit (AMD64)]'"
      ]
     },
     "execution_count": 121,
     "metadata": {},
     "output_type": "execute_result"
    }
   ],
   "source": [
    "import sys\n",
    "dir(sys)\n",
    "sys.version"
   ]
  },
  {
   "cell_type": "code",
   "execution_count": 123,
   "id": "60efc205-f485-4d97-831a-f9baeb5a0f08",
   "metadata": {},
   "outputs": [],
   "source": [
    "#method-name:randrange"
   ]
  },
  {
   "cell_type": "code",
   "execution_count": 167,
   "id": "8a24b3c6-ac15-474d-b8f5-49a9da07da6b",
   "metadata": {},
   "outputs": [
    {
     "name": "stdout",
     "output_type": "stream",
     "text": [
      "Help on method randrange in module random:\n",
      "\n",
      "randrange(start, stop=None, step=1) method of random.Random instance\n",
      "    Choose a random item from range(stop) or range(start, stop[, step]).\n",
      "\n",
      "    Roughly equivalent to ``choice(range(start, stop, step))`` but\n",
      "    supports arbitrarily large ranges and is optimized for common cases.\n",
      "\n"
     ]
    }
   ],
   "source": [
    "help(random.randrange)"
   ]
  },
  {
   "cell_type": "code",
   "execution_count": 129,
   "id": "eb51f07a-9463-4276-9f01-074ce8d627a5",
   "metadata": {},
   "outputs": [
    {
     "ename": "TypeError",
     "evalue": "Random.randrange() missing 1 required positional argument: 'start'",
     "output_type": "error",
     "traceback": [
      "\u001b[1;31m---------------------------------------------------------------------------\u001b[0m",
      "\u001b[1;31mTypeError\u001b[0m                                 Traceback (most recent call last)",
      "Cell \u001b[1;32mIn[129], line 1\u001b[0m\n\u001b[1;32m----> 1\u001b[0m random\u001b[38;5;241m.\u001b[39mrandrange()\n",
      "\u001b[1;31mTypeError\u001b[0m: Random.randrange() missing 1 required positional argument: 'start'"
     ]
    }
   ],
   "source": [
    "random.randrange()"
   ]
  },
  {
   "cell_type": "code",
   "execution_count": 169,
   "id": "145776c6-3c6c-47ee-a888-2258634c6bc5",
   "metadata": {},
   "outputs": [
    {
     "data": {
      "text/plain": [
       "1"
      ]
     },
     "execution_count": 169,
     "metadata": {},
     "output_type": "execute_result"
    }
   ],
   "source": [
    "random.randrange(1,20,2)"
   ]
  },
  {
   "cell_type": "code",
   "execution_count": 133,
   "id": "4b22fb1f-9e7f-4780-b347-375824297a96",
   "metadata": {},
   "outputs": [],
   "source": [
    "# method_name:e"
   ]
  },
  {
   "cell_type": "code",
   "execution_count": 135,
   "id": "a8ad330c-f03d-41b7-9424-844ae8394025",
   "metadata": {},
   "outputs": [
    {
     "data": {
      "text/plain": [
       "2.718281828459045"
      ]
     },
     "execution_count": 135,
     "metadata": {},
     "output_type": "execute_result"
    }
   ],
   "source": [
    "math.e"
   ]
  },
  {
   "cell_type": "code",
   "execution_count": 137,
   "id": "1b4f77c1-1b09-4c7b-9dd5-b3a7c5583e5b",
   "metadata": {},
   "outputs": [],
   "source": [
    "# method_name:factorial"
   ]
  },
  {
   "cell_type": "code",
   "execution_count": 139,
   "id": "fd5aa0ac-94e8-4b99-b459-02eb4a9c9f57",
   "metadata": {},
   "outputs": [
    {
     "data": {
      "text/plain": [
       "<function math.factorial(n, /)>"
      ]
     },
     "execution_count": 139,
     "metadata": {},
     "output_type": "execute_result"
    }
   ],
   "source": [
    "math.factorial"
   ]
  },
  {
   "cell_type": "code",
   "execution_count": 161,
   "id": "5217bc4b-3cb6-4fe5-8900-da595643c552",
   "metadata": {},
   "outputs": [
    {
     "name": "stdout",
     "output_type": "stream",
     "text": [
      "Help on built-in function factorial in module math:\n",
      "\n",
      "factorial(n, /)\n",
      "    Find n!.\n",
      "\n",
      "    Raise a ValueError if x is negative or non-integral.\n",
      "\n"
     ]
    }
   ],
   "source": [
    "help(math.factorial)"
   ]
  },
  {
   "cell_type": "code",
   "execution_count": 159,
   "id": "59125e94-8a20-429c-abee-13c7c8845d5c",
   "metadata": {},
   "outputs": [
    {
     "name": "stdout",
     "output_type": "stream",
     "text": [
      "Help on built-in function factorial in module math:\n",
      "\n",
      "factorial(n, /)\n",
      "    Find n!.\n",
      "\n",
      "    Raise a ValueError if x is negative or non-integral.\n",
      "\n"
     ]
    }
   ],
   "source": [
    "help(math.factorial)"
   ]
  },
  {
   "cell_type": "code",
   "execution_count": 141,
   "id": "d1893836-dc3e-4a21-8262-b11535696d8c",
   "metadata": {},
   "outputs": [
    {
     "data": {
      "text/plain": [
       "720"
      ]
     },
     "execution_count": 141,
     "metadata": {},
     "output_type": "execute_result"
    }
   ],
   "source": [
    "math.factorial(6)"
   ]
  },
  {
   "cell_type": "code",
   "execution_count": 163,
   "id": "e5c4d24a-bcd2-496a-adf6-67245c085965",
   "metadata": {},
   "outputs": [
    {
     "name": "stdout",
     "output_type": "stream",
     "text": [
      "Help on built-in function gcd in module math:\n",
      "\n",
      "gcd(*integers)\n",
      "    Greatest Common Divisor.\n",
      "\n"
     ]
    }
   ],
   "source": [
    "help(math.gcd)"
   ]
  },
  {
   "cell_type": "code",
   "execution_count": 147,
   "id": "92a884fa-6c78-433e-9afa-e6b498b3b3e8",
   "metadata": {},
   "outputs": [
    {
     "data": {
      "text/plain": [
       "1"
      ]
     },
     "execution_count": 147,
     "metadata": {},
     "output_type": "execute_result"
    }
   ],
   "source": [
    "math.gcd(6,5,4)"
   ]
  },
  {
   "cell_type": "code",
   "execution_count": 171,
   "id": "90b9d9d5-f9e5-4303-a09b-18c0a92afda5",
   "metadata": {},
   "outputs": [
    {
     "name": "stdout",
     "output_type": "stream",
     "text": [
      "Help on method uniform in module random:\n",
      "\n",
      "uniform(a, b) method of random.Random instance\n",
      "    Get a random number in the range [a, b) or [a, b] depending on rounding.\n",
      "\n",
      "    The mean (expected value) and variance of the random variable are:\n",
      "\n",
      "        E[X] = (a + b) / 2\n",
      "        Var[X] = (b - a) ** 2 / 12\n",
      "\n"
     ]
    }
   ],
   "source": [
    "help(random.uniform)"
   ]
  },
  {
   "cell_type": "code",
   "execution_count": 151,
   "id": "907286e0-4a5d-45e4-8d2d-b8f66b4ef889",
   "metadata": {},
   "outputs": [
    {
     "ename": "TypeError",
     "evalue": "Random.uniform() missing 2 required positional arguments: 'a' and 'b'",
     "output_type": "error",
     "traceback": [
      "\u001b[1;31m---------------------------------------------------------------------------\u001b[0m",
      "\u001b[1;31mTypeError\u001b[0m                                 Traceback (most recent call last)",
      "Cell \u001b[1;32mIn[151], line 1\u001b[0m\n\u001b[1;32m----> 1\u001b[0m random\u001b[38;5;241m.\u001b[39muniform()\n",
      "\u001b[1;31mTypeError\u001b[0m: Random.uniform() missing 2 required positional arguments: 'a' and 'b'"
     ]
    }
   ],
   "source": [
    "random.uniform()"
   ]
  },
  {
   "cell_type": "code",
   "execution_count": 153,
   "id": "eeee2e68-4c17-42a1-9855-0482adee707b",
   "metadata": {},
   "outputs": [
    {
     "data": {
      "text/plain": [
       "6.944611596917049"
      ]
     },
     "execution_count": 153,
     "metadata": {},
     "output_type": "execute_result"
    }
   ],
   "source": [
    "random.uniform(5,8)"
   ]
  },
  {
   "cell_type": "code",
   "execution_count": null,
   "id": "3468f982-7f96-4fbe-a645-d2ba2b5af1cc",
   "metadata": {},
   "outputs": [],
   "source": []
  }
 ],
 "metadata": {
  "kernelspec": {
   "display_name": "Python 3 (ipykernel)",
   "language": "python",
   "name": "python3"
  },
  "language_info": {
   "codemirror_mode": {
    "name": "ipython",
    "version": 3
   },
   "file_extension": ".py",
   "mimetype": "text/x-python",
   "name": "python",
   "nbconvert_exporter": "python",
   "pygments_lexer": "ipython3",
   "version": "3.12.4"
  }
 },
 "nbformat": 4,
 "nbformat_minor": 5
}

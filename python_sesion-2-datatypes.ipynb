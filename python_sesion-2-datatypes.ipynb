{
 "cells": [
  {
   "cell_type": "markdown",
   "id": "3d6fc9b0-72c6-4a19-8c49-24ee765a707f",
   "metadata": {},
   "source": [
    "**Datatypes**\n",
    "- In python we have many data types\n",
    "      - Integer\n",
    "        - float\n",
    "        - string\n",
    "        - boolean\n"
   ]
  },
  {
   "cell_type": "markdown",
   "id": "1ed5873b-cd6f-4834-9bfc-28c28d69fdde",
   "metadata": {},
   "source": [
    "**Integer**\n",
    "- Inpython no need to mention a data type like c\n",
    "- It will consider the data type itself"
   ]
  },
  {
   "cell_type": "markdown",
   "id": "a5f72e36-dcb1-4e24-9efc-88e9857cfde2",
   "metadata": {},
   "source": [
    "number=100\n",
    "# In order to check the type of avariable we will use\n",
    "# In built function calles as type"
   ]
  },
  {
   "cell_type": "markdown",
   "id": "2341df63-519a-44f4-a8f2-07fddce43b6f",
   "metadata": {},
   "source": [
    "type(number)"
   ]
  },
  {
   "cell_type": "code",
   "execution_count": 8,
   "id": "cf321c4a-d67c-42fb-b0b5-b76d0e7c3d2f",
   "metadata": {},
   "outputs": [],
   "source": [
    "number=100"
   ]
  },
  {
   "cell_type": "code",
   "execution_count": 10,
   "id": "0284f230-3988-413a-a7e7-85ba39f9d555",
   "metadata": {},
   "outputs": [
    {
     "data": {
      "text/plain": [
       "int"
      ]
     },
     "execution_count": 10,
     "metadata": {},
     "output_type": "execute_result"
    }
   ],
   "source": [
    "type(number)"
   ]
  },
  {
   "cell_type": "code",
   "execution_count": 12,
   "id": "f518431c-a9f0-4fa5-9e37-a1f835c4ce7a",
   "metadata": {},
   "outputs": [
    {
     "data": {
      "text/plain": [
       "int"
      ]
     },
     "execution_count": 12,
     "metadata": {},
     "output_type": "execute_result"
    }
   ],
   "source": [
    "type(100)"
   ]
  },
  {
   "cell_type": "markdown",
   "id": "bdd59343-2279-4e84-9f5c-5700f6ec276c",
   "metadata": {},
   "source": [
    "**Binary**\n",
    "- Binary has bi which indicates two\n",
    "- We have total 0 to 9 digits to repreent any number\n",
    "- From there we will take only first  two digits i.e.0 and 1\n",
    "- Ex:0b101,oB0001\n",
    "- Wrong representation:0b002 1b001"
   ]
  },
  {
   "cell_type": "code",
   "execution_count": 15,
   "id": "1d9f75a7-a9fc-4447-947b-43ae79378c31",
   "metadata": {},
   "outputs": [
    {
     "data": {
      "text/plain": [
       "7"
      ]
     },
     "execution_count": 15,
     "metadata": {},
     "output_type": "execute_result"
    }
   ],
   "source": [
    "0b111"
   ]
  },
  {
   "cell_type": "code",
   "execution_count": 17,
   "id": "a3d91de2-7b59-471d-875d-c570114f19b0",
   "metadata": {},
   "outputs": [
    {
     "data": {
      "text/plain": [
       "33"
      ]
     },
     "execution_count": 17,
     "metadata": {},
     "output_type": "execute_result"
    }
   ],
   "source": [
    "0b100001"
   ]
  },
  {
   "cell_type": "code",
   "execution_count": 19,
   "id": "058ec365-d222-41ff-83dd-fd4ad5d27819",
   "metadata": {},
   "outputs": [
    {
     "data": {
      "text/plain": [
       "1"
      ]
     },
     "execution_count": 19,
     "metadata": {},
     "output_type": "execute_result"
    }
   ],
   "source": [
    "0b000001"
   ]
  },
  {
   "cell_type": "code",
   "execution_count": 21,
   "id": "b897a721-f44a-40ec-ba64-407bc56ce167",
   "metadata": {},
   "outputs": [
    {
     "data": {
      "text/plain": [
       "15"
      ]
     },
     "execution_count": 21,
     "metadata": {},
     "output_type": "execute_result"
    }
   ],
   "source": [
    "0b1111"
   ]
  },
  {
   "cell_type": "code",
   "execution_count": 24,
   "id": "e0a9c39e-622f-431a-80f9-22b0dc5ca99b",
   "metadata": {},
   "outputs": [
    {
     "ename": "IndentationError",
     "evalue": "unexpected indent (1167754124.py, line 2)",
     "output_type": "error",
     "traceback": [
      "\u001b[1;36m  Cell \u001b[1;32mIn[24], line 2\u001b[1;36m\u001b[0m\n\u001b[1;33m    4  2 1\u001b[0m\n\u001b[1;37m    ^\u001b[0m\n\u001b[1;31mIndentationError\u001b[0m\u001b[1;31m:\u001b[0m unexpected indent\n"
     ]
    }
   ],
   "source": [
    "# digital logic design\n",
    " 4  2 1\n",
    " 0  0 0 0\n",
    " 0  0 1 1 ]\n",
    " 0  1 0 2\n",
    " 0  1 1 3\n",
    " 1  0 0 4\n",
    " 1  0 1 5\n",
    " 1  1 0 6\n",
    " 1  1 1 7\n",
    "8 4 2 1\n",
    "0 0\n",
    "0 0\n",
    "0 0\n",
    "0 0\n",
    "0 1\n",
    "0 1\n",
    "0 1\n",
    "0 1\n",
    "1 0\n",
    "1 0\n",
    "1 0\n",
    "1 0\n",
    "1 1\n",
    "1 1\n",
    "1 1\n",
    "1 1"
   ]
  },
  {
   "cell_type": "markdown",
   "id": "110cd770-3a95-43f5-a6c3-9267ae4df9ed",
   "metadata": {},
   "source": [
    "Different types of number systems:binary,octa,hexa,decimal"
   ]
  },
  {
   "cell_type": "markdown",
   "id": "208a5cc0-b24d-4169-b1fc-3129d73f7bf7",
   "metadata": {},
   "source": [
    "**Octa**\n",
    "- Octa means 8\n",
    "- we have 0 to 9 digits to represent any number\n",
    "- from there we will take only starting 8 digits i.e.0 to 7\n",
    "- ex: 0o123 ,0o567,0O10006\n",
    "- wrong representation is:0o786 because 7,6 but 8\n"
   ]
  },
  {
   "cell_type": "code",
   "execution_count": 3,
   "id": "bfa404d0-c9dc-4bc2-bba9-6a1cdc1585e2",
   "metadata": {},
   "outputs": [
    {
     "ename": "SyntaxError",
     "evalue": "invalid digit '8' in octal literal (3171049937.py, line 1)",
     "output_type": "error",
     "traceback": [
      "\u001b[1;36m  Cell \u001b[1;32mIn[3], line 1\u001b[1;36m\u001b[0m\n\u001b[1;33m    0o786\u001b[0m\n\u001b[1;37m       ^\u001b[0m\n\u001b[1;31mSyntaxError\u001b[0m\u001b[1;31m:\u001b[0m invalid digit '8' in octal literal\n"
     ]
    }
   ],
   "source": [
    "0o786"
   ]
  },
  {
   "cell_type": "code",
   "execution_count": 5,
   "id": "7b1b5b26-88ac-4567-84b0-1eefd9dadfd2",
   "metadata": {},
   "outputs": [
    {
     "data": {
      "text/plain": [
       "83"
      ]
     },
     "execution_count": 5,
     "metadata": {},
     "output_type": "execute_result"
    }
   ],
   "source": [
    "0o123"
   ]
  },
  {
   "cell_type": "code",
   "execution_count": 7,
   "id": "e9627062-3c19-4c39-9565-0028bff4ea77",
   "metadata": {},
   "outputs": [
    {
     "data": {
      "text/plain": [
       "302"
      ]
     },
     "execution_count": 7,
     "metadata": {},
     "output_type": "execute_result"
    }
   ],
   "source": [
    "0O456"
   ]
  },
  {
   "cell_type": "code",
   "execution_count": 9,
   "id": "c9f04c44-7365-4e4f-908d-b6ed4d59466f",
   "metadata": {},
   "outputs": [
    {
     "data": {
      "text/plain": [
       "229"
      ]
     },
     "execution_count": 9,
     "metadata": {},
     "output_type": "execute_result"
    }
   ],
   "source": [
    "0o345"
   ]
  },
  {
   "cell_type": "markdown",
   "id": "9f9bcdf2-aaf4-482c-bbfa-aeb52f5007cc",
   "metadata": {},
   "source": [
    "**HEXA**\n",
    "- Hexa means 16\n",
    "- we have 0 to 9 digits to represent any number\n",
    "- After 9 we will use A to F A:10, B:11, C:12,D:13,E:14,F:15\n",
    "- ex: 0x123, 0XABC,0x9ad\n",
    "- Wrong representation is:0xFGH"
   ]
  },
  {
   "cell_type": "code",
   "execution_count": 12,
   "id": "9115fade-2b34-4086-aa4b-8f9238933692",
   "metadata": {},
   "outputs": [
    {
     "data": {
      "text/plain": [
       "2748"
      ]
     },
     "execution_count": 12,
     "metadata": {},
     "output_type": "execute_result"
    }
   ],
   "source": [
    "0xabc"
   ]
  },
  {
   "cell_type": "code",
   "execution_count": 14,
   "id": "487641a1-125b-4850-b4ef-00cbb168965b",
   "metadata": {},
   "outputs": [
    {
     "data": {
      "text/plain": [
       "2898"
      ]
     },
     "execution_count": 14,
     "metadata": {},
     "output_type": "execute_result"
    }
   ],
   "source": [
    "2898"
   ]
  },
  {
   "cell_type": "code",
   "execution_count": 16,
   "id": "ec7f7956-1540-4230-8e68-150f8fcf500b",
   "metadata": {},
   "outputs": [
    {
     "data": {
      "text/plain": [
       "2898"
      ]
     },
     "execution_count": 16,
     "metadata": {},
     "output_type": "execute_result"
    }
   ],
   "source": [
    "0xb52"
   ]
  },
  {
   "cell_type": "markdown",
   "id": "42651d3b-8416-4bca-914a-463899d58f72",
   "metadata": {},
   "source": [
    "**Float**"
   ]
  },
  {
   "cell_type": "code",
   "execution_count": 22,
   "id": "d726f8df-ed9c-44c3-b279-2ec18a22a43b",
   "metadata": {},
   "outputs": [
    {
     "data": {
      "text/plain": [
       "float"
      ]
     },
     "execution_count": 22,
     "metadata": {},
     "output_type": "execute_result"
    }
   ],
   "source": [
    "num=10.5\n",
    "type(num)"
   ]
  },
  {
   "cell_type": "code",
   "execution_count": 24,
   "id": "a4b7ee07-0c5e-4372-8461-a98ee8b6186d",
   "metadata": {},
   "outputs": [
    {
     "data": {
      "text/plain": [
       "(int, float)"
      ]
     },
     "execution_count": 24,
     "metadata": {},
     "output_type": "execute_result"
    }
   ],
   "source": [
    "type(10),type(10.5)"
   ]
  },
  {
   "cell_type": "code",
   "execution_count": 32,
   "id": "8844ddd2-71b6-4763-90b7-63d51e1a9520",
   "metadata": {},
   "outputs": [
    {
     "data": {
      "text/plain": [
       "100000.0"
      ]
     },
     "execution_count": 32,
     "metadata": {},
     "output_type": "execute_result"
    }
   ],
   "source": [
    "10e1 #10*<10>=100\n",
    "10e2 #10*<100>=1000\n",
    "10e3 #10*<1000>=10000\n",
    "10e4 #10*<10000>=100000"
   ]
  },
  {
   "cell_type": "code",
   "execution_count": 34,
   "id": "3b06cd05-984b-4fc6-bdab-a506edf1cddf",
   "metadata": {},
   "outputs": [
    {
     "data": {
      "text/plain": [
       "20"
      ]
     },
     "execution_count": 34,
     "metadata": {},
     "output_type": "execute_result"
    }
   ],
   "source": [
    "10 \n",
    "20\n",
    "# In jupyter notebook by default last value will print"
   ]
  },
  {
   "cell_type": "code",
   "execution_count": 36,
   "id": "e46964b3-ba7d-49f4-96a3-23572d62803b",
   "metadata": {},
   "outputs": [
    {
     "name": "stdout",
     "output_type": "stream",
     "text": [
      "10\n",
      "20\n"
     ]
    }
   ],
   "source": [
    "# If you want to see all the answers apply print\n",
    "print(10)\n",
    "print(20)"
   ]
  },
  {
   "cell_type": "code",
   "execution_count": 38,
   "id": "3de876d0-810f-4cf0-9150-376d63d9d5ba",
   "metadata": {},
   "outputs": [
    {
     "name": "stdout",
     "output_type": "stream",
     "text": [
      "100.0\n",
      "1000.0\n",
      "10000.0\n",
      "100000.0\n"
     ]
    }
   ],
   "source": [
    "print(10e1 )\n",
    "print(10e2 )\n",
    "print(10e3 )\n",
    "print(10e4)"
   ]
  },
  {
   "cell_type": "code",
   "execution_count": 40,
   "id": "23e3f0ee-a932-45a3-9875-5c1dc49173d2",
   "metadata": {},
   "outputs": [
    {
     "data": {
      "text/plain": [
       "(10, 20)"
      ]
     },
     "execution_count": 40,
     "metadata": {},
     "output_type": "execute_result"
    }
   ],
   "source": [
    "10,20"
   ]
  },
  {
   "cell_type": "code",
   "execution_count": 44,
   "id": "8b19d3c1-7cfc-4474-bcb8-8a61231915b6",
   "metadata": {},
   "outputs": [
    {
     "data": {
      "text/plain": [
       "(100.0, 1000.0, 10000.0)"
      ]
     },
     "execution_count": 44,
     "metadata": {},
     "output_type": "execute_result"
    }
   ],
   "source": [
    "10e+1,10e+2,10e+3"
   ]
  },
  {
   "cell_type": "code",
   "execution_count": 46,
   "id": "bc65557a-cd19-46c1-bb0a-ff2485bafc78",
   "metadata": {},
   "outputs": [
    {
     "data": {
      "text/plain": [
       "1000.0"
      ]
     },
     "execution_count": 46,
     "metadata": {},
     "output_type": "execute_result"
    }
   ],
   "source": [
    "10E2"
   ]
  },
  {
   "cell_type": "code",
   "execution_count": 48,
   "id": "d217b286-c0e5-47a9-a919-0dfc9aaf77a2",
   "metadata": {},
   "outputs": [
    {
     "ename": "NameError",
     "evalue": "name 'hexa' is not defined",
     "output_type": "error",
     "traceback": [
      "\u001b[1;31m---------------------------------------------------------------------------\u001b[0m",
      "\u001b[1;31mNameError\u001b[0m                                 Traceback (most recent call last)",
      "Cell \u001b[1;32mIn[48], line 1\u001b[0m\n\u001b[1;32m----> 1\u001b[0m \u001b[38;5;241m2898\u001b[39m \u001b[38;5;129;01min\u001b[39;00m hexa\n",
      "\u001b[1;31mNameError\u001b[0m: name 'hexa' is not defined"
     ]
    }
   ],
   "source": [
    "2898 in hexa"
   ]
  },
  {
   "cell_type": "code",
   "execution_count": 50,
   "id": "e90f61ee-14fc-48cb-a3ac-8393c8e48f8f",
   "metadata": {},
   "outputs": [
    {
     "data": {
      "text/plain": [
       "'0xb52'"
      ]
     },
     "execution_count": 50,
     "metadata": {},
     "output_type": "execute_result"
    }
   ],
   "source": [
    "hex(2898)"
   ]
  },
  {
   "cell_type": "code",
   "execution_count": 54,
   "id": "38b6fb8b-5612-47da-bb6d-11e282baf278",
   "metadata": {},
   "outputs": [
    {
     "name": "stdout",
     "output_type": "stream",
     "text": [
      "1.0\n",
      "0.1\n",
      "0.01\n"
     ]
    }
   ],
   "source": [
    "print(10e-1)\n",
    "print(10e-2)\n",
    "print(10e-3)"
   ]
  },
  {
   "cell_type": "markdown",
   "id": "4fe05a9a-4810-49f5-a764-50a609483fc6",
   "metadata": {},
   "source": [
    "- In the machine learning we often see the value in exponential form\n",
    "- In somecase we need to search for zero value\n",
    "- In ML with python we rarely see exact an answer zero\n"
   ]
  },
  {
   "cell_type": "markdown",
   "id": "5dfcc0b2-163d-4e02-b81c-637d54183a9e",
   "metadata": {},
   "source": [
    "**Strings**\n",
    "- String represents english characters\n",
    "- Strings will represent with quotes\n",
    "    -single quotes\n",
    "    -Double quotes\n",
    "    -Triple quotes"
   ]
  },
  {
   "cell_type": "code",
   "execution_count": 58,
   "id": "b0868830-c174-44d1-add4-b8a6710f5446",
   "metadata": {},
   "outputs": [
    {
     "data": {
      "text/plain": [
       "'python'"
      ]
     },
     "execution_count": 58,
     "metadata": {},
     "output_type": "execute_result"
    }
   ],
   "source": [
    "str1='python'\n",
    "str1"
   ]
  },
  {
   "cell_type": "code",
   "execution_count": 60,
   "id": "fc14bb7d-a434-4d77-87c2-b51318ca8a1a",
   "metadata": {},
   "outputs": [
    {
     "data": {
      "text/plain": [
       "str"
      ]
     },
     "execution_count": 60,
     "metadata": {},
     "output_type": "execute_result"
    }
   ],
   "source": [
    "type(str1)"
   ]
  },
  {
   "cell_type": "code",
   "execution_count": 62,
   "id": "2dde6492-ec38-4c08-90aa-2bfd46c8e55f",
   "metadata": {},
   "outputs": [
    {
     "data": {
      "text/plain": [
       "'python'"
      ]
     },
     "execution_count": 62,
     "metadata": {},
     "output_type": "execute_result"
    }
   ],
   "source": [
    "str2=\"python\"\n",
    "str2"
   ]
  },
  {
   "cell_type": "markdown",
   "id": "bb2594a7-b835-43ac-a334-b8a62965630d",
   "metadata": {},
   "source": [
    "- we can represent in any way python will give in single quotes"
   ]
  },
  {
   "cell_type": "code",
   "execution_count": 65,
   "id": "7227b211-31d6-44e6-a62b-61653b7b8bfd",
   "metadata": {},
   "outputs": [
    {
     "name": "stdout",
     "output_type": "stream",
     "text": [
      "python\n"
     ]
    }
   ],
   "source": [
    "print(str1)"
   ]
  },
  {
   "cell_type": "markdown",
   "id": "c4aa79e7-b798-46a2-9098-9123f9e9bc89",
   "metadata": {},
   "source": [
    "- When we apply print on string it will display without quotes"
   ]
  },
  {
   "cell_type": "code",
   "execution_count": 68,
   "id": "d6e3c865-2909-4d44-b304-4d419dfb124d",
   "metadata": {},
   "outputs": [
    {
     "data": {
      "text/plain": [
       "str"
      ]
     },
     "execution_count": 68,
     "metadata": {},
     "output_type": "execute_result"
    }
   ],
   "source": [
    "str3=\"abc123\"\n",
    "type(str3)"
   ]
  },
  {
   "cell_type": "code",
   "execution_count": 70,
   "id": "bb005dc6-e49d-4fbd-a31e-0aae6c09c0c3",
   "metadata": {},
   "outputs": [
    {
     "data": {
      "text/plain": [
       "(str, str, str)"
      ]
     },
     "execution_count": 70,
     "metadata": {},
     "output_type": "execute_result"
    }
   ],
   "source": [
    "type('10'),type('10.5'),type('apple')"
   ]
  },
  {
   "cell_type": "markdown",
   "id": "b75b1822-4ecb-4bcd-bef9-1f5671c2127e",
   "metadata": {},
   "source": [
    "- any data type or any value is provided by quote means\n",
    "- It become a string only\n",
    "- Strings always in Red color\n",
    "- variables in Black Color\n",
    "- Keywords or numbers always in gREEN COLOR"
   ]
  },
  {
   "cell_type": "code",
   "execution_count": 8,
   "id": "3c09ffb3-673c-4c1b-bca1-d264e95f5e91",
   "metadata": {},
   "outputs": [
    {
     "data": {
      "text/plain": [
       "str"
      ]
     },
     "execution_count": 8,
     "metadata": {},
     "output_type": "execute_result"
    }
   ],
   "source": [
    "Rahi='rahi' #'rahi'is a english letters stored in a variable name called Rahi\n",
    "type(Rahi)"
   ]
  },
  {
   "cell_type": "markdown",
   "id": "b4a8bb1c-4164-4039-9767-e3d1e6d45b9e",
   "metadata": {},
   "source": [
    "str1='I like python'"
   ]
  },
  {
   "cell_type": "code",
   "execution_count": 80,
   "id": "072f5733-7428-4b04-8b44-c69bd141787a",
   "metadata": {},
   "outputs": [
    {
     "name": "stdout",
     "output_type": "stream",
     "text": [
      "I like'python'\n"
     ]
    }
   ],
   "source": [
    "str1=\"I like'python'\"\n",
    "print(str1)"
   ]
  },
  {
   "cell_type": "code",
   "execution_count": 82,
   "id": "127fd101-98a3-4809-b2a9-9b8a63e7b0eb",
   "metadata": {},
   "outputs": [
    {
     "name": "stdout",
     "output_type": "stream",
     "text": [
      "I like\"python\"\n"
     ]
    }
   ],
   "source": [
    "str2='I like\"python\"'\n",
    "print(str2)"
   ]
  },
  {
   "cell_type": "markdown",
   "id": "663835e5-715f-4c0f-af08-f7bd55beae6b",
   "metadata": {},
   "source": [
    "- If you want to hightlight any word\n",
    "- represent entire string in single quote,highlighted word in double quotes viceversa"
   ]
  },
  {
   "cell_type": "code",
   "execution_count": 85,
   "id": "877c6a05-1b8c-42da-9eb8-c46f0d30468b",
   "metadata": {},
   "outputs": [
    {
     "name": "stdout",
     "output_type": "stream",
     "text": [
      "Aymaan\n"
     ]
    }
   ],
   "source": [
    "str1='Aymaan'\n",
    "print(str1)"
   ]
  },
  {
   "cell_type": "code",
   "execution_count": 89,
   "id": "42369545-812f-4a75-a1d6-8ac9ae2614aa",
   "metadata": {},
   "outputs": [
    {
     "ename": "SyntaxError",
     "evalue": "unterminated string literal (detected at line 1) (1843104000.py, line 1)",
     "output_type": "error",
     "traceback": [
      "\u001b[1;36m  Cell \u001b[1;32mIn[89], line 1\u001b[1;36m\u001b[0m\n\u001b[1;33m    str1=\"Hai\u001b[0m\n\u001b[1;37m         ^\u001b[0m\n\u001b[1;31mSyntaxError\u001b[0m\u001b[1;31m:\u001b[0m unterminated string literal (detected at line 1)\n"
     ]
    }
   ],
   "source": [
    "str1=\"Hai \n",
    "How are you\" "
   ]
  },
  {
   "cell_type": "code",
   "execution_count": 101,
   "id": "557e0f34-cd1f-48fe-949f-c959546a741b",
   "metadata": {},
   "outputs": [
    {
     "name": "stdout",
     "output_type": "stream",
     "text": [
      "Hai\n",
      "       How are you\n"
     ]
    }
   ],
   "source": [
    "str1=\"\"\"Hai\n",
    "       How are you\"\"\"\n",
    "print(str1)"
   ]
  },
  {
   "cell_type": "markdown",
   "id": "a56ec86d-0efb-4abc-9e55-fcb65218245d",
   "metadata": {},
   "source": [
    "str1=\"\"\"hai\n",
    "       how are you\n",
    "       im good\"\"\n",
    "str1"
   ]
  },
  {
   "cell_type": "markdown",
   "id": "ea2e9a6e-e2bb-4447-8646-e1e0b50579af",
   "metadata": {},
   "source": [
    "- Triple quotes is used for write a multiline comments\n",
    "- This is called as *Docstring*\n",
    "- In order to write a story in jupyter notebook we have a markdown\n",
    "- Then how to write a story:By using triple quotes\n",
    "- if any peron writing something uing triple quotes, which indicates the user is trying to convey the information\n",
    "- this process is called Docstring"
   ]
  },
  {
   "cell_type": "markdown",
   "id": "4fbffb1f-c351-4427-9c53-d20ad3db922b",
   "metadata": {},
   "source": [
    "**Boolean**"
   ]
  },
  {
   "cell_type": "markdown",
   "id": "4aefa38f-0867-44af-a712-8dcd788b07fa",
   "metadata": {},
   "source": [
    "- computer takes the valuess in Binary format(1,0)\n",
    "- computer gives the answer in Boolean format\n",
    "    - TRUE\n",
    "    - FALSE\n",
    "- True indiactes 1\n",
    "- False indiactes 0"
   ]
  },
  {
   "cell_type": "code",
   "execution_count": 107,
   "id": "1e902260-6313-47fe-b38a-730b6cb04a91",
   "metadata": {},
   "outputs": [
    {
     "data": {
      "text/plain": [
       "bool"
      ]
     },
     "execution_count": 107,
     "metadata": {},
     "output_type": "execute_result"
    }
   ],
   "source": [
    "val=True\n",
    "type(val)\n"
   ]
  },
  {
   "cell_type": "code",
   "execution_count": 109,
   "id": "75643dfc-73a7-45b0-95ce-7419e477bec0",
   "metadata": {},
   "outputs": [
    {
     "data": {
      "text/plain": [
       "bool"
      ]
     },
     "execution_count": 109,
     "metadata": {},
     "output_type": "execute_result"
    }
   ],
   "source": [
    "val1=False\n",
    "type(val1)"
   ]
  },
  {
   "cell_type": "code",
   "execution_count": 112,
   "id": "4fc5a248-bf5d-4b3a-a2fa-c3bf4e00c86e",
   "metadata": {},
   "outputs": [
    {
     "data": {
      "text/plain": [
       "(str, bool)"
      ]
     },
     "execution_count": 112,
     "metadata": {},
     "output_type": "execute_result"
    }
   ],
   "source": [
    "true='True'\n",
    "TRUE=True\n",
    "type(true),type(TRUE)"
   ]
  },
  {
   "cell_type": "code",
   "execution_count": 3,
   "id": "8cf8257a-49d3-4f76-8639-1c804e6328c9",
   "metadata": {},
   "outputs": [
    {
     "data": {
      "text/plain": [
       "(int, float, str, bool)"
      ]
     },
     "execution_count": 3,
     "metadata": {},
     "output_type": "execute_result"
    }
   ],
   "source": [
    "a=10\n",
    "b=10.5\n",
    "c='10'\n",
    "d=True\n",
    "type(a),type(b),type(c),type(d)"
   ]
  },
  {
   "cell_type": "code",
   "execution_count": 5,
   "id": "9e669b39-528d-41ee-8fd7-6a9bb7b50d11",
   "metadata": {},
   "outputs": [
    {
     "ename": "NameError",
     "evalue": "name 'TRUE' is not defined",
     "output_type": "error",
     "traceback": [
      "\u001b[1;31m---------------------------------------------------------------------------\u001b[0m",
      "\u001b[1;31mNameError\u001b[0m                                 Traceback (most recent call last)",
      "Cell \u001b[1;32mIn[5], line 1\u001b[0m\n\u001b[1;32m----> 1\u001b[0m val\u001b[38;5;241m=\u001b[39mTRUE\n\u001b[0;32m      2\u001b[0m \u001b[38;5;28mtype\u001b[39m(val)\n",
      "\u001b[1;31mNameError\u001b[0m: name 'TRUE' is not defined"
     ]
    }
   ],
   "source": [
    "val=TRUE\n",
    "type(val)"
   ]
  },
  {
   "cell_type": "code",
   "execution_count": 1,
   "id": "2597c586-8cba-49ad-967f-313f303b17b3",
   "metadata": {},
   "outputs": [
    {
     "data": {
      "text/plain": [
       "str"
      ]
     },
     "execution_count": 1,
     "metadata": {},
     "output_type": "execute_result"
    }
   ],
   "source": [
    "val='TRUE'\n",
    "type(val)"
   ]
  },
  {
   "cell_type": "code",
   "execution_count": 3,
   "id": "9436056e-6ee4-40f1-adf7-7bcd2b187825",
   "metadata": {},
   "outputs": [
    {
     "data": {
      "text/plain": [
       "bool"
      ]
     },
     "execution_count": 3,
     "metadata": {},
     "output_type": "execute_result"
    }
   ],
   "source": [
    "val=True\n",
    "type(val)"
   ]
  },
  {
   "cell_type": "code",
   "execution_count": null,
   "id": "04e0c6f5-a440-4827-87ca-2bb618db256d",
   "metadata": {},
   "outputs": [],
   "source": []
  }
 ],
 "metadata": {
  "kernelspec": {
   "display_name": "Python 3 (ipykernel)",
   "language": "python",
   "name": "python3"
  },
  "language_info": {
   "codemirror_mode": {
    "name": "ipython",
    "version": 3
   },
   "file_extension": ".py",
   "mimetype": "text/x-python",
   "name": "python",
   "nbconvert_exporter": "python",
   "pygments_lexer": "ipython3",
   "version": "3.12.4"
  }
 },
 "nbformat": 4,
 "nbformat_minor": 5
}
